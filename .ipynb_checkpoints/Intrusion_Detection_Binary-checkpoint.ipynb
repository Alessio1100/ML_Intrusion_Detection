{
 "cells": [
  {
   "cell_type": "markdown",
   "id": "296e08f0-120c-440e-bd6c-eb3342b742e2",
   "metadata": {},
   "source": [
    "# Intrusion Detection \n",
    "(sono state fatte modifiche alle parti di codice che riguardano il calcolo degli iperparamentri, che non comportano un cambiamento dei risultati, ma comunque va runnato tutto di nuovo prima di consegnarlo )\n",
    "## Autore\n",
    "* **Torroni Alessio** 0365661 "
   ]
  },
  {
   "cell_type": "markdown",
   "id": "4979605f-7295-4017-aa72-82a5126d7e56",
   "metadata": {},
   "source": [
    "# Introduzione "
   ]
  },
  {
   "cell_type": "markdown",
   "id": "c9d51246-fcd8-4c96-ae9c-2e5a2b1ead28",
   "metadata": {
    "jp-MarkdownHeadingCollapsed": true
   },
   "source": [
    "\n",
    "Questo Notebook si pone come obiettivo di effettuare un'analisi di molteplici modelli di Machine Learning da applicare al dataset \"KDDTrainClean.csv\" con il fine di classificare i flussi di rete in modo binario (normale / attacco). Il dataset NSL-KDD rappresenta un benchmark per sistemi di Intrusion Detection. Il dataset contiene informazioni sui flussi di traffico di rete verso una infrastruttura IT. Ciascun flusso `e etichettato come “normale” o associato ad una tipologia di attacco. La colonna label del dataset rappresenta l’etichetta.\n"
   ]
  },
  {
   "cell_type": "markdown",
   "id": "d10d1ed8-ef7b-4abf-9449-64861aa133fa",
   "metadata": {},
   "source": [
    "# Librerie importate"
   ]
  },
  {
   "cell_type": "code",
   "execution_count": 155,
   "id": "29046fff-b3fc-408f-9351-a630e0191a43",
   "metadata": {},
   "outputs": [],
   "source": [
    "import pandas as pd\n",
    "import numpy as np\n",
    "import matplotlib.pyplot as plt\n",
    "import seaborn as sns\n",
    "\n",
    "from sklearn.model_selection import train_test_split\n",
    "from sklearn.base import BaseEstimator, TransformerMixin\n",
    "from sklearn.metrics import accuracy_score, f1_score, precision_score, recall_score, confusion_matrix\n",
    "from sklearn.compose import ColumnTransformer\n",
    "from sklearn.linear_model import LogisticRegression\n",
    "from sklearn.preprocessing import OneHotEncoder, MinMaxScaler, LabelBinarizer, TargetEncoder, FunctionTransformer\n",
    "from sklearn.impute import SimpleImputer\n",
    "from sklearn.pipeline import Pipeline\n",
    "from tabulate import tabulate\n",
    "from tensorflow.keras.models import Sequential\n",
    "from tensorflow.keras.layers import Dense, Dropout\n",
    "from scikeras.wrappers import KerasClassifier\n",
    "from sklearn.model_selection import RandomizedSearchCV\n",
    "from tensorflow.keras.callbacks import EarlyStopping\n",
    "from sklearn.neighbors import KNeighborsClassifier\n",
    "from sklearn.experimental import enable_halving_search_cv\n",
    "from sklearn.model_selection import HalvingGridSearchCV\n",
    "from sklearn.ensemble import RandomForestClassifier\n",
    "from sklearn.ensemble import AdaBoostClassifier\n",
    "from sklearn.tree import DecisionTreeClassifier"
   ]
  },
  {
   "cell_type": "markdown",
   "id": "24859f8d-3fc9-4c99-ac90-70598e5d1fe5",
   "metadata": {},
   "source": [
    "# Caricamento del Dataset "
   ]
  },
  {
   "cell_type": "code",
   "execution_count": 157,
   "id": "343ea877-09e7-4dd6-b586-86465a94e6df",
   "metadata": {},
   "outputs": [
    {
     "name": "stdout",
     "output_type": "stream",
     "text": [
      "Dataset caricato con successo.\n",
      "Dimensioni del dataset: (125973, 42)\n"
     ]
    },
    {
     "data": {
      "text/html": [
       "<div>\n",
       "<style scoped>\n",
       "    .dataframe tbody tr th:only-of-type {\n",
       "        vertical-align: middle;\n",
       "    }\n",
       "\n",
       "    .dataframe tbody tr th {\n",
       "        vertical-align: top;\n",
       "    }\n",
       "\n",
       "    .dataframe thead th {\n",
       "        text-align: right;\n",
       "    }\n",
       "</style>\n",
       "<table border=\"1\" class=\"dataframe\">\n",
       "  <thead>\n",
       "    <tr style=\"text-align: right;\">\n",
       "      <th></th>\n",
       "      <th>duration</th>\n",
       "      <th>protocol_type</th>\n",
       "      <th>service</th>\n",
       "      <th>flag</th>\n",
       "      <th>src_bytes</th>\n",
       "      <th>dst_bytes</th>\n",
       "      <th>land</th>\n",
       "      <th>wrong_fragment</th>\n",
       "      <th>urgent</th>\n",
       "      <th>hot</th>\n",
       "      <th>...</th>\n",
       "      <th>dst_host_srv_count</th>\n",
       "      <th>dst_host_same_srv_rate</th>\n",
       "      <th>dst_host_diff_srv_rate</th>\n",
       "      <th>dst_host_same_src_port_rate</th>\n",
       "      <th>dst_host_srv_diff_host_rate</th>\n",
       "      <th>dst_host_serror_rate</th>\n",
       "      <th>dst_host_srv_serror_rate</th>\n",
       "      <th>dst_host_rerror_rate</th>\n",
       "      <th>dst_host_srv_rerror_rate</th>\n",
       "      <th>label</th>\n",
       "    </tr>\n",
       "  </thead>\n",
       "  <tbody>\n",
       "    <tr>\n",
       "      <th>0</th>\n",
       "      <td>0</td>\n",
       "      <td>tcp</td>\n",
       "      <td>ftp_data</td>\n",
       "      <td>SF</td>\n",
       "      <td>491</td>\n",
       "      <td>0</td>\n",
       "      <td>0</td>\n",
       "      <td>0</td>\n",
       "      <td>0</td>\n",
       "      <td>0</td>\n",
       "      <td>...</td>\n",
       "      <td>25</td>\n",
       "      <td>0.17</td>\n",
       "      <td>0.03</td>\n",
       "      <td>0.17</td>\n",
       "      <td>0.00</td>\n",
       "      <td>0.00</td>\n",
       "      <td>0.00</td>\n",
       "      <td>0.05</td>\n",
       "      <td>0.00</td>\n",
       "      <td>normal</td>\n",
       "    </tr>\n",
       "    <tr>\n",
       "      <th>1</th>\n",
       "      <td>0</td>\n",
       "      <td>udp</td>\n",
       "      <td>other</td>\n",
       "      <td>SF</td>\n",
       "      <td>146</td>\n",
       "      <td>0</td>\n",
       "      <td>0</td>\n",
       "      <td>0</td>\n",
       "      <td>0</td>\n",
       "      <td>0</td>\n",
       "      <td>...</td>\n",
       "      <td>1</td>\n",
       "      <td>0.00</td>\n",
       "      <td>0.60</td>\n",
       "      <td>0.88</td>\n",
       "      <td>0.00</td>\n",
       "      <td>0.00</td>\n",
       "      <td>0.00</td>\n",
       "      <td>0.00</td>\n",
       "      <td>0.00</td>\n",
       "      <td>normal</td>\n",
       "    </tr>\n",
       "    <tr>\n",
       "      <th>2</th>\n",
       "      <td>0</td>\n",
       "      <td>tcp</td>\n",
       "      <td>private</td>\n",
       "      <td>S0</td>\n",
       "      <td>0</td>\n",
       "      <td>0</td>\n",
       "      <td>0</td>\n",
       "      <td>0</td>\n",
       "      <td>0</td>\n",
       "      <td>0</td>\n",
       "      <td>...</td>\n",
       "      <td>26</td>\n",
       "      <td>0.10</td>\n",
       "      <td>0.05</td>\n",
       "      <td>0.00</td>\n",
       "      <td>0.00</td>\n",
       "      <td>1.00</td>\n",
       "      <td>1.00</td>\n",
       "      <td>0.00</td>\n",
       "      <td>0.00</td>\n",
       "      <td>neptune</td>\n",
       "    </tr>\n",
       "    <tr>\n",
       "      <th>3</th>\n",
       "      <td>0</td>\n",
       "      <td>tcp</td>\n",
       "      <td>http</td>\n",
       "      <td>SF</td>\n",
       "      <td>232</td>\n",
       "      <td>8153</td>\n",
       "      <td>0</td>\n",
       "      <td>0</td>\n",
       "      <td>0</td>\n",
       "      <td>0</td>\n",
       "      <td>...</td>\n",
       "      <td>255</td>\n",
       "      <td>1.00</td>\n",
       "      <td>0.00</td>\n",
       "      <td>0.03</td>\n",
       "      <td>0.04</td>\n",
       "      <td>0.03</td>\n",
       "      <td>0.01</td>\n",
       "      <td>0.00</td>\n",
       "      <td>0.01</td>\n",
       "      <td>normal</td>\n",
       "    </tr>\n",
       "    <tr>\n",
       "      <th>4</th>\n",
       "      <td>0</td>\n",
       "      <td>tcp</td>\n",
       "      <td>http</td>\n",
       "      <td>SF</td>\n",
       "      <td>199</td>\n",
       "      <td>420</td>\n",
       "      <td>0</td>\n",
       "      <td>0</td>\n",
       "      <td>0</td>\n",
       "      <td>0</td>\n",
       "      <td>...</td>\n",
       "      <td>255</td>\n",
       "      <td>1.00</td>\n",
       "      <td>0.00</td>\n",
       "      <td>0.00</td>\n",
       "      <td>0.00</td>\n",
       "      <td>0.00</td>\n",
       "      <td>0.00</td>\n",
       "      <td>0.00</td>\n",
       "      <td>0.00</td>\n",
       "      <td>normal</td>\n",
       "    </tr>\n",
       "  </tbody>\n",
       "</table>\n",
       "<p>5 rows × 42 columns</p>\n",
       "</div>"
      ],
      "text/plain": [
       "   duration protocol_type   service flag  src_bytes  dst_bytes  land  \\\n",
       "0         0           tcp  ftp_data   SF        491          0     0   \n",
       "1         0           udp     other   SF        146          0     0   \n",
       "2         0           tcp   private   S0          0          0     0   \n",
       "3         0           tcp      http   SF        232       8153     0   \n",
       "4         0           tcp      http   SF        199        420     0   \n",
       "\n",
       "   wrong_fragment  urgent  hot  ...  dst_host_srv_count  \\\n",
       "0               0       0    0  ...                  25   \n",
       "1               0       0    0  ...                   1   \n",
       "2               0       0    0  ...                  26   \n",
       "3               0       0    0  ...                 255   \n",
       "4               0       0    0  ...                 255   \n",
       "\n",
       "   dst_host_same_srv_rate  dst_host_diff_srv_rate  \\\n",
       "0                    0.17                    0.03   \n",
       "1                    0.00                    0.60   \n",
       "2                    0.10                    0.05   \n",
       "3                    1.00                    0.00   \n",
       "4                    1.00                    0.00   \n",
       "\n",
       "   dst_host_same_src_port_rate  dst_host_srv_diff_host_rate  \\\n",
       "0                         0.17                         0.00   \n",
       "1                         0.88                         0.00   \n",
       "2                         0.00                         0.00   \n",
       "3                         0.03                         0.04   \n",
       "4                         0.00                         0.00   \n",
       "\n",
       "   dst_host_serror_rate  dst_host_srv_serror_rate  dst_host_rerror_rate  \\\n",
       "0                  0.00                      0.00                  0.05   \n",
       "1                  0.00                      0.00                  0.00   \n",
       "2                  1.00                      1.00                  0.00   \n",
       "3                  0.03                      0.01                  0.00   \n",
       "4                  0.00                      0.00                  0.00   \n",
       "\n",
       "   dst_host_srv_rerror_rate    label  \n",
       "0                      0.00   normal  \n",
       "1                      0.00   normal  \n",
       "2                      0.00  neptune  \n",
       "3                      0.01   normal  \n",
       "4                      0.00   normal  \n",
       "\n",
       "[5 rows x 42 columns]"
      ]
     },
     "execution_count": 157,
     "metadata": {},
     "output_type": "execute_result"
    }
   ],
   "source": [
    "# Percorso del file\n",
    "file_path = 'KDDTrainClean.csv'\n",
    "\n",
    "# Carico il dataset in un DataFrame\n",
    "df = pd.read_csv(file_path)\n",
    "print(\"Dataset caricato con successo.\")\n",
    "print(f\"Dimensioni del dataset: {df.shape}\")\n",
    "\n",
    "# Split label in y\n",
    "X = df.drop('label', axis=1)\n",
    "y = df['label']\n",
    "\n",
    "# Trasformazione della variabile target in binaria\n",
    "y_binary = (y != \"normal\").astype(int)\n",
    "y_binary = pd.Series(y_binary)\n",
    "# Visualizzo le prime righe del dataset\n",
    "df.head()\n"
   ]
  },
  {
   "cell_type": "markdown",
   "id": "051ca7b7-e5ad-4ff5-beac-1f0259208286",
   "metadata": {},
   "source": [
    "# Descrizione delle colonne del dataset NSL-KDD"
   ]
  },
  {
   "cell_type": "markdown",
   "id": "67e91410-5483-41b1-8e03-616717795de7",
   "metadata": {},
   "source": [
    "### Caratteristiche di Base\n",
    "1. **duration:** Durata della connessione in secondi. Utile per rilevare attacchi come DoS, che spesso hanno durate anormalmente brevi o molto lunghe.\n",
    "2. **protocol_type:** Tipo di protocollo (es. TCP, UDP, ICMP). Alcuni attacchi sfruttano protocolli specifici, come UDP o ICMP.\n",
    "3. **service:** Tipo di servizio di rete (es. HTTP, FTP, DNS). Aiuta a identificare attacchi mirati a servizi critici, come FTP brute force o HTTP DoS.\n",
    "4. **flag:** Stato del flag TCP (es. SF, REJ). Modifiche anomale nei flag TCP possono indicare scan di porte.\n",
    "5. **src_bytes:** Numero di byte inviati dalla sorgente alla destinazione. Valori estremi possono indicare traffico anomalo.\n",
    "6. **dst_bytes:** Numero di byte inviati dalla destinazione alla sorgente. Sovraccarichi di dati o risposte bloccate sono indicatori di attacco.\n",
    "7. **land:** Booleano che indica se la sorgente e la destinazione sono lo stesso host. Utile per identificare land attacks.\n",
    "8. **wrong_fragment:** Numero di frammenti errati nei pacchetti. Attacchi DoS o MITM possono generare frammenti malformati per manipolare il traffico.\n",
    "9. **urgent:** Numero di pacchetti urgenti nel traffico. Rileva attacchi che abusano del flag URG.\n",
    "10. **hot:** Numero di indicatori \"caldi\" in una connessione. Un valore elevato può indicare comportamenti sospetti.\n",
    "11. **num_failed_logins:** Numero di tentativi di login falliti. Utile per rilevare attacchi brute force.\n",
    "12. **logged_in:** Booleano che indica se il login è riuscito. Attacchi spesso mostrano tentativi di login non autorizzati.\n",
    "13. **num_compromised:** Numero di indicatori compromessi in una connessione. Un valore elevato può suggerire che un attacco ha avuto successo.\n",
    "14. **root_shell:** Booleano che indica se è stato ottenuto accesso root. Accessi root non autorizzati sono chiari segnali di attacco.\n",
    "15. **su_attempted:** Numero di tentativi di comando `su`(switch user). Rileva attacchi di escalation di privilegi.\n",
    "16. **num_root:** Numero di accessi root nella connessione. Utile per identificare compromissioni di sistema.\n",
    "17. **num_file_creations:** Numero di file creati nella sessione. Malware spesso crea file temporanei o modifica il file system.\n",
    "18. **num_shells:** Numero di shell ottenute nella sessione. Utile per rilevare exploit di sistema.\n",
    "19. **num_access_files:** Numero di file critici aperti. Rileva accessi sospetti a file riservati.\n",
    "20. **num_outbound_cmds:** Numero di comandi outbound.\n",
    "21. **is_host_login:** Booleano che indica login come host.\n",
    "22. **is_guest_login:** Booleano che indica login come guest.\n",
    "23. **count:** Numero di connessioni alla stessa destinazione nella finestra temporale. Attacchi come port scan mostrano valori anomali.\n",
    "24. **srv_count:** Numero di connessioni allo stesso servizio nella finestra temporale. Rileva attacchi mirati contro un servizio specifico.\n",
    "25. **serror_rate:** Percentuale di connessioni con errori SYN. Utile per rilevare SYN flood.\n",
    "26. **srv_serror_rate:** Percentuale di errori SYN verso un singolo servizio. Indicativo di attacchi specifici al servizio.\n",
    "27. **rerror_rate:** Percentuale di connessioni con errori RST. Aiuta a identificare attacchi che generano reset anomali.\n",
    "28. **srv_rerror_rate:** Percentuale di errori RST verso un singolo servizio. Utile per rilevare attacchi mirati.\n",
    "29. **same_srv_rate:** Percentuale di connessioni alla stessa destinazione. Cambiamenti drastici possono suggerire comportamenti anomali.\n",
    "30. **diff_srv_rate:** Percentuale di connessioni verso destinazioni diverse. Un aumento potrebbe indicare scanning di rete.\n",
    "31. **srv_diff_host_rate:** Percentuale di connessioni a host diversi nello stesso servizio. Utile per rilevare attacchi distribuiti.\n",
    "32. **dst_host_count:** Numero di connessioni alla destinazione. Una frequenza elevata può indicare un attacco mirato.\n",
    "33. **dst_host_srv_count:** Numero di connessioni al servizio specifico della destinazione. Utile per rilevare attacchi contro un servizio.\n",
    "34. **dst_host_same_srv_rate:** Percentuale di connessioni alla stessa destinazione nello stesso servizio. Utile per rilevare abusi di un servizio.\n",
    "35. **dst_host_diff_srv_rate:** Percentuale di connessioni verso diversi servizi della stessa destinazione. Rileva attacchi a più servizi.\n",
    "36. **dst_host_same_src_port_rate:** Percentuale di connessioni dalla stessa porta sorgente. Utile per individuare attacchi che sfruttano una porta specifica.\n",
    "37. **dst_host_srv_diff_host_rate:** Percentuale di connessioni al servizio provenienti da host diversi. Utile per identificare botnet o attacchi distribuiti.\n",
    "38. **dst_host_serror_rate:** Percentuale di errori SYN sulla destinazione. Cruciale per rilevare SYN flood.\n",
    "39. **dst_host_srv_serror_rate:** Percentuale di errori SYN sul servizio della destinazione. Indicativo di attacchi mirati.\n",
    "40. **dst_host_rerror_rate:** Percentuale di errori RST sulla destinazione. Utile per rilevare reset generati da attacchi.\n",
    "41. **dst_host_srv_rerror_rate:** Percentuale di errori RST sul servizio della destinazione. Utile per identificare attacchi specifici al servizio.\n",
    "\n",
    "### Etichetta\n",
    "42. **label:** Indica se il flusso è normale (`normal`) o associato a un attacco (qualsiasi altro valore).\n"
   ]
  },
  {
   "cell_type": "markdown",
   "id": "960c5c19-bfe5-4d0c-8c70-f062557be7c4",
   "metadata": {},
   "source": [
    "# Pre-processamento dei dati"
   ]
  },
  {
   "cell_type": "markdown",
   "id": "678ca85c-e950-4f80-bd4c-da45c91b6363",
   "metadata": {},
   "source": [
    "### Colonne ad alto indice di Correlazione\n",
    "Notiamo come alcune colonne nel dataset siano altamente correlate tra loro, presentando un coefficiente di correlazione superiore alla soglia di 0.95. Queste relazioni indicano che le feature coinvolte forniscono informazioni ridondanti, poiché rappresentano lo stesso comportamento o fenomeno. Ad esempio, colonne come `serror_rate` e `srv_serror_rate` spesso mostrano valori quasi identici, dato che misurano errori simili in contesti leggermente diversi. Mantenere colonne altamente correlate comporta un aumento della complessità del modello, che si traduce in una maggiore dimensionalità e in un rallentamento del processo di addestramento. Inoltre la presenza di feature altamente correlate può rendere difficile determinare quale feature contribuisca realmente alla predizione e destabilizzando il modello. \n",
    "Eliminare queste colonne ridondanti semplifica il modello, rendendolo più veloce da addestrare e più stabile. \n",
    "\n",
    "### Colonne a valori costanti \n",
    "Parallelamente, individuiamo colonne costanti che non aggiungono alcuna variabilità al dataset. Queste colonne, avendo lo stesso valore per tutti i record, non influenzano il processo decisionale del modello e possono essere considerate inutili. Mantenere colonne costanti comporta un aumento della dimensionalità del dataset senza alcun beneficio informativo, oltre a rappresentare uno spreco di risorse computazionali, incrementando i tempi di addestramento e il consumo di memoria. Al contrario, rimuovere le feature costanti riduce la dimensionalità e velocizza i calcoli, senza alcuna perdita di informazione, poiché non aggiungono variabilità significativa al dataset.\n",
    "\n",
    "Questa attività di preprocessamento garantisce che il dataset sia ottimizzato per l'addestramento, mantenendo solo le feature più rilevanti e significative, migliorando così sia l'efficienza del modello che la sua capacità di generalizzazione.\n",
    "\n",
    "### Calcolo della matrice di Correlazione  "
   ]
  },
  {
   "cell_type": "code",
   "execution_count": 78,
   "id": "8efc3cab-08d8-4bd8-81cc-ec43c244996d",
   "metadata": {},
   "outputs": [
    {
     "data": {
      "image/png": "[encoded data removed]",
      "text/plain": [
       "<Figure size 600x400 with 2 Axes>"
      ]
     },
     "metadata": {},
     "output_type": "display_data"
    },
    {
     "name": "stdout",
     "output_type": "stream",
     "text": [
      "Coppie di colonne altamente correlate in formato tabellare con percentuale di correlazione:\n"
     ]
    },
    {
     "data": {
      "text/html": [
       "<div>\n",
       "<style scoped>\n",
       "    .dataframe tbody tr th:only-of-type {\n",
       "        vertical-align: middle;\n",
       "    }\n",
       "\n",
       "    .dataframe tbody tr th {\n",
       "        vertical-align: top;\n",
       "    }\n",
       "\n",
       "    .dataframe thead th {\n",
       "        text-align: right;\n",
       "    }\n",
       "</style>\n",
       "<table border=\"1\" class=\"dataframe\">\n",
       "  <thead>\n",
       "    <tr style=\"text-align: right;\">\n",
       "      <th></th>\n",
       "      <th>Feature 1</th>\n",
       "      <th>Feature 2</th>\n",
       "      <th>Correlation Index</th>\n",
       "    </tr>\n",
       "  </thead>\n",
       "  <tbody>\n",
       "    <tr>\n",
       "      <th>0</th>\n",
       "      <td>num_compromised</td>\n",
       "      <td>num_root</td>\n",
       "      <td>99.883345</td>\n",
       "    </tr>\n",
       "    <tr>\n",
       "      <th>1</th>\n",
       "      <td>serror_rate</td>\n",
       "      <td>srv_serror_rate</td>\n",
       "      <td>99.328924</td>\n",
       "    </tr>\n",
       "    <tr>\n",
       "      <th>2</th>\n",
       "      <td>serror_rate</td>\n",
       "      <td>dst_host_serror_rate</td>\n",
       "      <td>97.937308</td>\n",
       "    </tr>\n",
       "    <tr>\n",
       "      <th>3</th>\n",
       "      <td>serror_rate</td>\n",
       "      <td>dst_host_srv_serror_rate</td>\n",
       "      <td>98.113896</td>\n",
       "    </tr>\n",
       "    <tr>\n",
       "      <th>4</th>\n",
       "      <td>srv_serror_rate</td>\n",
       "      <td>dst_host_serror_rate</td>\n",
       "      <td>97.759601</td>\n",
       "    </tr>\n",
       "    <tr>\n",
       "      <th>5</th>\n",
       "      <td>srv_serror_rate</td>\n",
       "      <td>dst_host_srv_serror_rate</td>\n",
       "      <td>98.625172</td>\n",
       "    </tr>\n",
       "    <tr>\n",
       "      <th>6</th>\n",
       "      <td>rerror_rate</td>\n",
       "      <td>srv_rerror_rate</td>\n",
       "      <td>98.900765</td>\n",
       "    </tr>\n",
       "    <tr>\n",
       "      <th>7</th>\n",
       "      <td>rerror_rate</td>\n",
       "      <td>dst_host_srv_rerror_rate</td>\n",
       "      <td>96.444867</td>\n",
       "    </tr>\n",
       "    <tr>\n",
       "      <th>8</th>\n",
       "      <td>srv_rerror_rate</td>\n",
       "      <td>dst_host_srv_rerror_rate</td>\n",
       "      <td>97.020800</td>\n",
       "    </tr>\n",
       "    <tr>\n",
       "      <th>9</th>\n",
       "      <td>dst_host_serror_rate</td>\n",
       "      <td>dst_host_srv_serror_rate</td>\n",
       "      <td>98.505222</td>\n",
       "    </tr>\n",
       "  </tbody>\n",
       "</table>\n",
       "</div>"
      ],
      "text/plain": [
       "              Feature 1                 Feature 2  Correlation Index\n",
       "0       num_compromised                  num_root          99.883345\n",
       "1           serror_rate           srv_serror_rate          99.328924\n",
       "2           serror_rate      dst_host_serror_rate          97.937308\n",
       "3           serror_rate  dst_host_srv_serror_rate          98.113896\n",
       "4       srv_serror_rate      dst_host_serror_rate          97.759601\n",
       "5       srv_serror_rate  dst_host_srv_serror_rate          98.625172\n",
       "6           rerror_rate           srv_rerror_rate          98.900765\n",
       "7           rerror_rate  dst_host_srv_rerror_rate          96.444867\n",
       "8       srv_rerror_rate  dst_host_srv_rerror_rate          97.020800\n",
       "9  dst_host_serror_rate  dst_host_srv_serror_rate          98.505222"
      ]
     },
     "execution_count": 78,
     "metadata": {},
     "output_type": "execute_result"
    }
   ],
   "source": [
    "# Calcolo la matrice di correlazione\n",
    "correlation_matrix = X.corr(numeric_only=True)\n",
    "highly_correlated_pairs = []\n",
    "threshold = 0.95\n",
    "\n",
    "for i in range(correlation_matrix.shape[0]):\n",
    "    for j in range(i + 1, correlation_matrix.shape[1]):\n",
    "        if abs(correlation_matrix.iloc[i, j]) > threshold:\n",
    "            highly_correlated_pairs.append((\n",
    "                correlation_matrix.index[i], \n",
    "                correlation_matrix.columns[j], \n",
    "                correlation_matrix.iloc[i, j]\n",
    "            ))\n",
    "\n",
    "# Visualizzo le coppie altamente correlate in un grafico\n",
    "plt.figure(figsize=(6, 4))\n",
    "correlated_features = list(set([item for sublist in highly_correlated_pairs for item in sublist[:2]]))\n",
    "correlation_matrix_filtered = correlation_matrix.loc[correlated_features, correlated_features]\n",
    "sns.heatmap(correlation_matrix_filtered, cmap='coolwarm', annot=True, fmt='.2f', vmin=-1, vmax=1)\n",
    "plt.title(\"Matrice di correlazione - Feature altamente correlate\")\n",
    "plt.show()\n",
    "\n",
    "# Visualizzazione delle coppie altamente correlate in formato tabellare\n",
    "correlated_df = pd.DataFrame(highly_correlated_pairs, columns=['Feature 1', 'Feature 2', 'Correlation Index'])\n",
    "correlated_df['Correlation Index'] = correlated_df['Correlation Index'].abs() * 100  # Converto in percentuale\n",
    "print(\"Coppie di colonne altamente correlate in formato tabellare con percentuale di correlazione:\")\n",
    "correlated_df.head(10)\n"
   ]
  },
  {
   "cell_type": "markdown",
   "id": "d42637ef-ffa6-4d5b-8068-8179c814e355",
   "metadata": {},
   "source": [
    "## Rimozione delle feature costanti ed altamente correlate \n",
    "Analizzando le feature dalla matrice di correlazione, controlliamo quanto sono correlate con la feature target. Notiamo che le coppie più correlate hanno coefficienti di correlazione con il target molto simili. Per questo, scegliamo di rimuovere la feature con il coefficiente di correlazione più basso rispetto al target."
   ]
  },
  {
   "cell_type": "code",
   "execution_count": 159,
   "id": "9695768f-b5f5-4776-afd5-0d44655b011c",
   "metadata": {},
   "outputs": [
    {
     "name": "stdout",
     "output_type": "stream",
     "text": [
      "Feature rimosse perché costanti: ['num_outbound_cmds']\n",
      "Feature rimosse per alta correlazione: ['num_compromised', 'srv_serror_rate', 'rerror_rate', 'dst_host_serror_rate']\n",
      "Numero di feature rimanenti:  36\n"
     ]
    }
   ],
   "source": [
    "constant_columns = [col for col in X.columns if X[col].nunique() == 1]\n",
    "print(\"Feature rimosse perché costanti:\", constant_columns)\n",
    "X = X.drop(columns=constant_columns)\n",
    "# Rimuovere le feature altamente correlate\n",
    "features_to_remove = []\n",
    "features_to_print = []\n",
    "visited = set()\n",
    "correlation_with_target = X.corrwith(y_binary,numeric_only=True).sort_values(ascending=False)\n",
    "for feature1, feature2, _ in highly_correlated_pairs:  # Ignoro il terzo valore (correlation index)\n",
    "    if feature1 not in visited and feature2 not in visited:\n",
    "        # Confronto i coefficienti di correlazione con il target\n",
    "        corr_feature1 = correlation_with_target[feature1]\n",
    "        corr_feature2 = correlation_with_target[feature2]\n",
    "\n",
    "        # Decido quale feature rimuovere: mantengo quella con correlazione più alta con il target\n",
    "        if abs(corr_feature1) >= abs(corr_feature2):  # Preferisco il valore più alto in valore assoluto\n",
    "            features_to_remove.append(feature2)\n",
    "            features_to_print.append(feature1)\n",
    "        else:\n",
    "            features_to_remove.append(feature1)\n",
    "            features_to_print.append(feature2)\n",
    "\n",
    "        visited.add(feature1)\n",
    "        visited.add(feature2)\n",
    "        \n",
    "print(\"Feature rimosse per alta correlazione:\", features_to_remove)\n",
    "X = X.drop(columns=features_to_remove)\n",
    "print(\"Numero di feature rimanenti: \",len(X.columns))"
   ]
  },
  {
   "cell_type": "markdown",
   "id": "2fbdf338-925c-444d-963f-8fe6eae2be66",
   "metadata": {},
   "source": [
    "# Divisione del Dataset "
   ]
  },
  {
   "cell_type": "markdown",
   "id": "d935749f-0b6c-4e70-8d5e-942a78e21556",
   "metadata": {
    "jp-MarkdownHeadingCollapsed": true
   },
   "source": [
    "Quando si valuta un modello di Machine Learning, l'intero data set deve essere scomposto in 3 parti:\n",
    "\n",
    "* **training set**: porzione del data set utilizzata per addestrare il modello;\n",
    "* **validation set**: porzione del data set utilizzata per stabilire quali sono i valori degli iperparametri che portano il modello ad avere le prestazioni migliori.\n",
    "* **testing set**: porzione del data set utilizzata per effettuare le predizioni, confrontare il valore vero col valore predetto del target di ciascun elemento e calcolare le prestazioni e la qualità del modello.\n",
    "\n",
    "Stando alla documentazione di Sklearn, il data set viene tipicamente suddiviso secondo il seguente schema:\n",
    "\n",
    "* Si ha una prima suddivisione statica in training+validation set e testing set: circa il 70-80% delle istanze andrebbe nel training+validation set, mentre il restante 20-30% andrebbe nel testing set. In questo progetto, verrà effettuata una suddivisione del tipo: 80% dei dati nel training+validation set; 20% dei dati nel testing set.\n",
    "* Per quanto riguarda il training+validation set, nel caso in cui si ha a che fare con un modello che prevede il settaggio di qualche iperparametro, è necessario un meccanismo per applicare un'ulteriore suddivisione in training set e validation set. Questa seconda suddivisione avviene sulla base della k-fold cross validation: il training+validation set viene diviso in  porzioni uguali e vengono effettuate iterazioni, in ciascuna delle quali una sola porzione (diversa a ogni iterazione) svolge il ruolo di validation set, mentre le altre svolgono il ruolo di training set.\n",
    "\n",
    "Si è scelto di effettuare la divisione del dataset prima della normalizzazione dei dati per evitare problemi di **data leakage** ovvero l'inclusione accidentale di informazioni dal test set , che altera i risultati e porta a modelli non generalizzabili, poiché il modello impara da dati che non avrebbe normalmente accesso durante la predizione.\n",
    "\n",
    "https://www.ibm.com/think/topics/data-leakage-machine-learning \n",
    "\n",
    "https://arxiv.org/pdf/2207.07048"
   ]
  },
  {
   "cell_type": "code",
   "execution_count": 161,
   "id": "b3422e20-09f6-49c9-8e2d-726b73c4487f",
   "metadata": {},
   "outputs": [],
   "source": [
    "# Suddivisione iniziale: 80% training+validation, 20% test\n",
    "X_temp, X_test, y_temp, y_test = train_test_split(X, y_binary, test_size=0.2, random_state=42, shuffle=True)\n",
    "\n",
    "# Suddivisione del training+validation in 75% training, 25% validation\n",
    "X_train, X_val, y_train, y_val = train_test_split(X_temp, y_temp, test_size=0.25, random_state=42, shuffle=True)\n"
   ]
  },
  {
   "cell_type": "markdown",
   "id": "fa80a284-b8c5-4452-bd59-db4246ca1a5e",
   "metadata": {},
   "source": [
    "### Controllo che la distribuzione delle classi sia bilanciata "
   ]
  },
  {
   "cell_type": "code",
   "execution_count": 84,
   "id": "23f6b210-f173-4da2-82ba-f65bda6be08c",
   "metadata": {},
   "outputs": [
    {
     "data": {
      "image/png": "[encoded data removed]",
      "text/plain": [
       "<Figure size 1200x400 with 3 Axes>"
      ]
     },
     "metadata": {},
     "output_type": "display_data"
    }
   ],
   "source": [
    "# Funzione per verificare il bilanciamento delle classi\n",
    "def verifica_bilanciamento(y, set_name, ax):\n",
    "    distribuzione = y.value_counts(normalize=True)\n",
    "    ax.pie(np.array(distribuzione), labels=[0, 1], autopct='%1.1f%%')\n",
    "    ax.set_title(f\"Distribuzione: {set_name}\")\n",
    "\n",
    "# Creazione dei subplots\n",
    "fig, axes = plt.subplots(1, 3, figsize=(12, 4))  # 1 riga, 3 colonne, dimensione totale\n",
    "\n",
    "# Verifica per ogni set\n",
    "verifica_bilanciamento(pd.Series(y_train), \"Training\", axes[0])\n",
    "verifica_bilanciamento(pd.Series(y_val), \"Validation\", axes[1])\n",
    "verifica_bilanciamento(pd.Series(y_test), \"Test\", axes[2])\n",
    "\n",
    "# Mostrare i grafici\n",
    "plt.tight_layout()  # Per evitare sovrapposizioni\n",
    "plt.show()\n"
   ]
  },
  {
   "cell_type": "markdown",
   "id": "4ffa2ff5-5dd7-4e41-b6f8-65d0055af2b6",
   "metadata": {},
   "source": [
    "# Normalizzazione delle feature "
   ]
  },
  {
   "cell_type": "markdown",
   "id": "4c9979ea-8fa6-4ca0-857f-e63aa801b50c",
   "metadata": {},
   "source": [
    "Affinché tutte le feature diano lo stesso contributo nell'apprendimento dei modelli di Machine Learning, è necessario che i loro valori viaggino sullo stesso ordine di grandezza. Invece noi abbiamo:\n",
    "\n",
    "* **duration**: assume valori tra 0 e 42908\n",
    "* **src_bytes**: assume valori tra 0 e 1379963888\n",
    "* **dst_bytes**: assume valori tra 0 e 1309937401\n",
    "* **num_compromised**: assume valori tra 0 e 7479\n",
    "* **num_root**: assume valori tra 0 e 7468\n",
    "* **count**: assume valori tra 0 e 511\n",
    "* **srv_count**: assume valori tra 0 e 511\n",
    "* **dst_host_count**: assume valori tra 0 e 255\n",
    "* **dst_host_srv_count**: assume valori tra 0 e 255\n",
    "\n",
    "Tali feature verranno normalizzate utilizzando  **MinMaxScaler**, una tecnica di normalizzazione che ridimensiona i dati in un **intervallo** tra \\([0,1]\\). La formula utilizzata è:\n",
    "$$ x' = \\frac{x - x_{\\text{min}}}{x_{\\text{max}} - x_{\\text{min}}}$$\n",
    "Questa trasformazione preserva la **distribuzione originale** dei dati, riducendo l'influenza di scale diverse tra le feature.\n",
    "\n",
    "### Feature Categoriche\n",
    "Per quanto riguarda le feature categoriche abbiamo:\n",
    "\n",
    "* **protocol_type**: 'tcp','udp','icmp' \n",
    "* **service**: come vediamo qui di seguito assume 70 valori unici\t\n",
    "* **flag**: 'SF' 'S0' 'REJ' 'RSTR' 'SH' 'RSTO' 'S1' 'RSTOS0' 'S3' 'S2' 'OTH'\n",
    "* **label**: nel caso generico assume piu di due valori. Siccome il nostro obbiettivo è una classificazione binaria normalizziamo la feature ponendo\n",
    "0 se il flusso è normale e 1 se è un attacco.\n",
    "\n",
    "Le feature categoriche che assumono un numero di valori distinti ragionevolmente piccolo come **protocol_type** e **flag** vengono codificate attraverso **One Hot Encoding**\n",
    "\n",
    "\n",
    "La feature categorica **service** per motivi di dimensionalità viene codificata attraverso *TargetEncoder()*. La classe `TargetEncoder`, implementa una tecnica di **codifica categoriale** combinando la media globale della variabile target con la media condizionata per ciascuna categoria. Per evitare l'**overfitting**, applica uno smoothing bayesiano.\n",
    "\n",
    "#### **Formula del Target Encoding**\n",
    "\n",
    "$$\n",
    "\\text{Encoding}(c) = \\frac{\\sum_{i=1}^{N_c} y_i + \\alpha \\cdot \\mu}{N_c + \\alpha}\n",
    "$$\n",
    "\n",
    "Dove:\n",
    "* ${c}$ è una categoria specifica della feature categoriale. \n",
    "* ${N_c}$ è il numero di occorrenze della categoria ${ c } $ nel dataset. \n",
    "* ${ y_i }$ sono i valori della variabile target associati alla categoria ${c}$. \n",
    "* ${\\mu }$ è la **media globale** del target su tutto il dataset.\n",
    "* ${ \\alpha }$ è un **parametro di smoothing** che bilancia l'influenza tra la media condizionata della categoria e la media globale.\n",
    "\n"
   ]
  },
  {
   "cell_type": "code",
   "execution_count": 163,
   "id": "f8120eda-4a76-44e8-89f8-44ef0b8deae1",
   "metadata": {},
   "outputs": [],
   "source": [
    "#Distinguo feature numeriche binarie e non \n",
    "num_attribs = [\n",
    "    col for col in X.columns\n",
    "    if X[col].dtype in ['int64', 'float64'] and X[col].max() > 1\n",
    "]\n",
    "skip_attribs = [\n",
    "    col for col in X.columns\n",
    "    if X[col].dtype in ['int64', 'float64'] and X[col].max() <= 1\n",
    "]\n",
    "num_attribs_high = [\n",
    "    col for col in X.columns\n",
    "    if X[col].dtype in ['int64', 'float64'] and X[col].max() > 10^4\n",
    "]\n",
    "skip_attribs_low= [\n",
    "    col for col in X.columns\n",
    "    if X[col].dtype in ['int64', 'float64'] and X[col].max() <= 10^4\n",
    "]\n",
    "#Distinguo feature categoriche ad alta dimensionalità\n",
    "cat_attribs = [\"protocol_type\", \"flag\"]\n",
    "cat_attribs_high_dim = [\"service\"]\n",
    "\n",
    "X_train[cat_attribs] = X_train[cat_attribs].astype(str)\n",
    "X_train[cat_attribs_high_dim] = X_train[cat_attribs_high_dim].astype(str)\n",
    "\n",
    "X_test[cat_attribs] = X_test[cat_attribs].astype(str)\n",
    "X_test[cat_attribs_high_dim] = X_test[cat_attribs_high_dim].astype(str)\n"
   ]
  },
  {
   "cell_type": "markdown",
   "id": "e0049974-1c8a-46f9-8f86-0c9130f5c537",
   "metadata": {},
   "source": [
    "# Pipeline"
   ]
  },
  {
   "cell_type": "markdown",
   "id": "6346e0a1-a229-48d4-afc7-5a5fcf462fa3",
   "metadata": {
    "jp-MarkdownHeadingCollapsed": true
   },
   "source": [
    "Applicare manualmente tutte le trasformazioni necessarie sui dati di training e test, come la gestione dei valori mancanti e la creazione di nuove feature, può essere un processo lungo e soggetto a errori. Le pipeline di trasformazione di scikit-learn automatizzano questi passaggi, garantendo che le stesse operazioni vengano applicate in modo coerente e riproducibile su tutti i dati.\n",
    "\n",
    "L'uso della pipeline consente di suddividere il preprocessing in fasi distinte, adattando le trasformazioni alle diverse tipologie di feature. I dati numerici vengono normalizzati per garantire che siano confrontabili tra loro, mentre le variabili categoriche vengono trasformate per essere utilizzabili dai modelli di machine learning. \n",
    "Un vantaggio dell’uso della pipeline è la flessibilità: ogni modello ha esigenze diverse in termini di preprocessing, e la pipeline permette di applicare solo le trasformazioni necessarie, senza introdurre operazioni superflue.\n",
    "\n",
    "Nello specifico per i modelli sensibili alle scale dei dati vengono applicate tutte le tecniche di normalizzazione sopra indicate. Tra queste abbiamo:\n",
    "* **Feedforward NN**\n",
    "* **K-Nearest Neighbor**\n",
    "* **Logistic Regression**\n",
    "  \n",
    "Per quanto riguarda gli algoritmi basati su alberi come **AdaBoost** e **Random Forest** sono invarianti rispetto alla scala delle feature. Tuttavia se i dati contengono feature con scale estreme, come nel caso di *src_bytes* e *dst_bytes*, potrebbe essere utile una trasformazione logaritmica per evitare che alcune feature abbiano più impatto di altre.\n"
   ]
  },
  {
   "cell_type": "code",
   "execution_count": 165,
   "id": "41c99ee1-f344-4575-9c9d-322e0a437816",
   "metadata": {},
   "outputs": [],
   "source": [
    "# Creazione del trasformatore logaritmico\n",
    "log_transformer = FunctionTransformer(np.log1p, validate=True)\n",
    "\n",
    "#Pipeline per la normalizzazione delle feature numeriche \n",
    "num_pipeline_normalized = Pipeline([\n",
    "    (\"imputer\", SimpleImputer(strategy=\"median\")),  # Riempie i valori mancanti\n",
    "    (\"scaler\", MinMaxScaler())  # Normalizzazione tra 0 e 1 \n",
    "])\n",
    "#Pipeline per saltare la normalizzazione delle feature numeriche per modelli che non necessitano di normalizzazione \n",
    "num_pipeline_passthrough = \"passthrough\" \n",
    "\n",
    "full_pipeline_models = {\n",
    "    \"Feedforward_NN\": ColumnTransformer([      # Feedforward Neural Network, molto sensibile alla scala dei dati --> normalizziamo tutte le feature\n",
    "        (\"num\", num_pipeline_normalized, num_attribs),        \n",
    "        (\"num_pass\", num_pipeline_passthrough,skip_attribs),\n",
    "        (\"cat_oht\", OneHotEncoder(handle_unknown=\"ignore\"), cat_attribs),\n",
    "        (\"cat_tge\", TargetEncoder(), cat_attribs_high_dim),\n",
    "    ]), \n",
    "    \"KNN\": ColumnTransformer([                 # KNN sensibile alla scala dei dati --> normalizziamo tutte le feature\n",
    "        (\"num\", num_pipeline_normalized, num_attribs),\n",
    "        (\"num_pass\", num_pipeline_passthrough,skip_attribs),\n",
    "        (\"cat_oht\", OneHotEncoder(handle_unknown=\"ignore\"), cat_attribs),\n",
    "        (\"cat_tge\", TargetEncoder(), cat_attribs_high_dim),\n",
    "    ]),\n",
    "    \"Logistic_Regression\": ColumnTransformer([    # Logistc Regression sensibile alla scala dei dati --> normalizziamo tutte le feature\n",
    "        (\"num\", num_pipeline_normalized, num_attribs),\n",
    "        (\"num_pass\", num_pipeline_passthrough,skip_attribs),\n",
    "        (\"cat_oht\", OneHotEncoder(handle_unknown=\"ignore\"), cat_attribs),\n",
    "        (\"cat_tge\", TargetEncoder(), cat_attribs_high_dim),\n",
    "    ]),\n",
    "    \"Random_Forest\": ColumnTransformer([\n",
    "        (\"num\", log_transformer, num_attribs_high),\n",
    "        (\"num_pass\", num_pipeline_passthrough,skip_attribs_low),\n",
    "        (\"cat_oht\", OneHotEncoder(handle_unknown=\"ignore\"), cat_attribs),\n",
    "        (\"cat_tge\", TargetEncoder(), cat_attribs_high_dim),\n",
    "    ]),\n",
    "    \"AdaBoost\": ColumnTransformer([\n",
    "        (\"num\", log_transformer , num_attribs_high),\n",
    "        (\"num_pass\", num_pipeline_passthrough,skip_attribs_low),\n",
    "        (\"cat_oht\", OneHotEncoder(handle_unknown=\"ignore\"), cat_attribs),\n",
    "        (\"cat_tge\", TargetEncoder(), cat_attribs_high_dim),\n",
    "    ])\n",
    "}"
   ]
  },
  {
   "cell_type": "code",
   "execution_count": 167,
   "id": "9754b8c7-c6de-4649-8ed0-e8293d15e5cb",
   "metadata": {},
   "outputs": [],
   "source": [
    "def preprocess_pipeline(model_name):\n",
    "    \n",
    "    global X_train, X_val, X_test, y_train\n",
    "\n",
    "    if model_name not in full_pipeline_models:\n",
    "        raise ValueError(f\"Modello '{model_name}' non trovato.\")\n",
    "\n",
    "    # Selezioniamo la pipeline specifica per il modello\n",
    "    pipeline = full_pipeline_models[model_name]\n",
    "\n",
    "    # Fit della pipeline sul training set\n",
    "    pipeline.fit(X_train,y_train)\n",
    "\n",
    "    # Funzione per ottenere i nomi delle colonne trasformate\n",
    "    def get_feature_names(column_transformer, input_features):\n",
    "        output_feature_names = []\n",
    "        for name, transformer, columns in column_transformer.transformers_:\n",
    "            if name == \"remainder\":\n",
    "                output_feature_names.extend(columns)  # Colonne pass-through\n",
    "            elif hasattr(transformer, \"get_feature_names_out\"):\n",
    "                # Per trasformatori come OneHotEncoder\n",
    "                feature_names = transformer.get_feature_names_out(columns)\n",
    "                output_feature_names.extend(feature_names)\n",
    "            else:\n",
    "                # Per trasformazioni come TargetEncoder\n",
    "                output_feature_names.extend(columns)\n",
    "        return output_feature_names\n",
    "\n",
    "    # Recuperiamo i nomi delle colonne trasformate\n",
    "    transformed_columns = get_feature_names(pipeline, X_train.columns)\n",
    "\n",
    "    # Trasformiamo i dataset\n",
    "    X_train_transformed = pd.DataFrame(\n",
    "        pipeline.transform(X_train),\n",
    "        index=X_train.index,\n",
    "        columns=transformed_columns\n",
    "    )\n",
    "    X_val_transformed = pd.DataFrame(\n",
    "        pipeline.transform(X_val),\n",
    "        index=X_val.index,\n",
    "        columns=transformed_columns\n",
    "    )\n",
    "    X_test_transformed = pd.DataFrame(\n",
    "        pipeline.transform(X_test),\n",
    "        index=X_test.index,\n",
    "        columns=transformed_columns\n",
    "    )\n",
    "    \n",
    "    return X_train_transformed, X_val_transformed, X_test_transformed\n"
   ]
  },
  {
   "cell_type": "markdown",
   "id": "d3f7f0d8-0f28-4822-8d7e-58d5f4a02005",
   "metadata": {},
   "source": [
    "## Metriche Utilizzate\n",
    "- **Accuracy**:    $ \\text{Accuracy} = \\frac{TP + TN}{TP + TN + FP + FN} $\n",
    "  \n",
    "- **Precision**:    $\\text{Precision} = \\frac{TP}{TP + FP}$\n",
    "  \n",
    "- **Recall**:     $\\text{Recall} = \\frac{TP}{TP + FN}$\n",
    "\n",
    "- **F1-score**:    $\\text{F1} = 2 \\times \\frac{\\text{Precision} \\times \\text{Recall}}{\\text{Precision} + \\text{Recall}}$\n",
    "\n",
    "- **Confusion Matrix**"
   ]
  },
  {
   "cell_type": "code",
   "execution_count": 169,
   "id": "49cde917-f197-41e3-9dc4-5a8aaca2bfc9",
   "metadata": {},
   "outputs": [],
   "source": [
    "results_dictionary={}\n",
    "def metrics_score(y_true, y_pred):\n",
    "    metrics = {}\n",
    "    metrics['Accuracy'] = accuracy_score(y_true, y_pred)\n",
    "    metrics['Precision'] = precision_score(y_true, y_pred, average='weighted')\n",
    "    metrics['Recall'] = recall_score(y_true, y_pred, average='weighted')\n",
    "    metrics['F1-Score'] = f1_score(y_true, y_pred, average='weighted')\n",
    "    return metrics"
   ]
  },
  {
   "cell_type": "markdown",
   "id": "bd67278b-6ad9-4ae4-af2b-1dbc96f0d3ea",
   "metadata": {},
   "source": [
    "# Feedforward Neural Network"
   ]
  },
  {
   "cell_type": "code",
   "execution_count": 36,
   "id": "26b62f8e-4944-4d97-a79e-5c103d1773f8",
   "metadata": {},
   "outputs": [
    {
     "name": "stdout",
     "output_type": "stream",
     "text": [
      "Fitting 5 folds for each of 20 candidates, totalling 100 fits\n"
     ]
    },
    {
     "name": "stderr",
     "output_type": "stream",
     "text": [
      "C:\\Users\\aless\\anaconda3\\Lib\\site-packages\\keras\\src\\layers\\core\\dense.py:87: UserWarning: Do not pass an `input_shape`/`input_dim` argument to a layer. When using Sequential models, prefer using an `Input(shape)` object as the first layer in the model instead.\n",
      "  super().__init__(activity_regularizer=activity_regularizer, **kwargs)\n"
     ]
    },
    {
     "name": "stdout",
     "output_type": "stream",
     "text": [
      "[CV] END batch_size=64, epochs=20, model__dropout_rate=0.6, model__neurons_1=32, model__neurons_2=256, model__optimizer=adam; total time= 1.2min\n"
     ]
    },
    {
     "name": "stderr",
     "output_type": "stream",
     "text": [
      "C:\\Users\\aless\\anaconda3\\Lib\\site-packages\\keras\\src\\layers\\core\\dense.py:87: UserWarning: Do not pass an `input_shape`/`input_dim` argument to a layer. When using Sequential models, prefer using an `Input(shape)` object as the first layer in the model instead.\n",
      "  super().__init__(activity_regularizer=activity_regularizer, **kwargs)\n"
     ]
    },
    {
     "name": "stdout",
     "output_type": "stream",
     "text": [
      "[CV] END batch_size=64, epochs=20, model__dropout_rate=0.6, model__neurons_1=32, model__neurons_2=256, model__optimizer=adam; total time= 1.2min\n"
     ]
    },
    {
     "name": "stderr",
     "output_type": "stream",
     "text": [
      "C:\\Users\\aless\\anaconda3\\Lib\\site-packages\\keras\\src\\layers\\core\\dense.py:87: UserWarning: Do not pass an `input_shape`/`input_dim` argument to a layer. When using Sequential models, prefer using an `Input(shape)` object as the first layer in the model instead.\n",
      "  super().__init__(activity_regularizer=activity_regularizer, **kwargs)\n"
     ]
    },
    {
     "name": "stdout",
     "output_type": "stream",
     "text": [
      "[CV] END batch_size=64, epochs=20, model__dropout_rate=0.6, model__neurons_1=32, model__neurons_2=256, model__optimizer=adam; total time= 1.2min\n"
     ]
    },
    {
     "name": "stderr",
     "output_type": "stream",
     "text": [
      "C:\\Users\\aless\\anaconda3\\Lib\\site-packages\\keras\\src\\layers\\core\\dense.py:87: UserWarning: Do not pass an `input_shape`/`input_dim` argument to a layer. When using Sequential models, prefer using an `Input(shape)` object as the first layer in the model instead.\n",
      "  super().__init__(activity_regularizer=activity_regularizer, **kwargs)\n"
     ]
    },
    {
     "name": "stdout",
     "output_type": "stream",
     "text": [
      "[CV] END batch_size=64, epochs=20, model__dropout_rate=0.6, model__neurons_1=32, model__neurons_2=256, model__optimizer=adam; total time= 1.2min\n"
     ]
    },
    {
     "name": "stderr",
     "output_type": "stream",
     "text": [
      "C:\\Users\\aless\\anaconda3\\Lib\\site-packages\\keras\\src\\layers\\core\\dense.py:87: UserWarning: Do not pass an `input_shape`/`input_dim` argument to a layer. When using Sequential models, prefer using an `Input(shape)` object as the first layer in the model instead.\n",
      "  super().__init__(activity_regularizer=activity_regularizer, **kwargs)\n"
     ]
    },
    {
     "name": "stdout",
     "output_type": "stream",
     "text": [
      "[CV] END batch_size=64, epochs=20, model__dropout_rate=0.6, model__neurons_1=32, model__neurons_2=256, model__optimizer=adam; total time= 1.2min\n"
     ]
    },
    {
     "name": "stderr",
     "output_type": "stream",
     "text": [
      "C:\\Users\\aless\\anaconda3\\Lib\\site-packages\\keras\\src\\layers\\core\\dense.py:87: UserWarning: Do not pass an `input_shape`/`input_dim` argument to a layer. When using Sequential models, prefer using an `Input(shape)` object as the first layer in the model instead.\n",
      "  super().__init__(activity_regularizer=activity_regularizer, **kwargs)\n"
     ]
    },
    {
     "name": "stdout",
     "output_type": "stream",
     "text": [
      "[CV] END batch_size=16, epochs=20, model__dropout_rate=0.2, model__neurons_1=512, model__neurons_2=64, model__optimizer=adam; total time= 4.2min\n"
     ]
    },
    {
     "name": "stderr",
     "output_type": "stream",
     "text": [
      "C:\\Users\\aless\\anaconda3\\Lib\\site-packages\\keras\\src\\layers\\core\\dense.py:87: UserWarning: Do not pass an `input_shape`/`input_dim` argument to a layer. When using Sequential models, prefer using an `Input(shape)` object as the first layer in the model instead.\n",
      "  super().__init__(activity_regularizer=activity_regularizer, **kwargs)\n"
     ]
    },
    {
     "name": "stdout",
     "output_type": "stream",
     "text": [
      "[CV] END batch_size=16, epochs=20, model__dropout_rate=0.2, model__neurons_1=512, model__neurons_2=64, model__optimizer=adam; total time= 4.2min\n"
     ]
    },
    {
     "name": "stderr",
     "output_type": "stream",
     "text": [
      "C:\\Users\\aless\\anaconda3\\Lib\\site-packages\\keras\\src\\layers\\core\\dense.py:87: UserWarning: Do not pass an `input_shape`/`input_dim` argument to a layer. When using Sequential models, prefer using an `Input(shape)` object as the first layer in the model instead.\n",
      "  super().__init__(activity_regularizer=activity_regularizer, **kwargs)\n"
     ]
    },
    {
     "name": "stdout",
     "output_type": "stream",
     "text": [
      "[CV] END batch_size=16, epochs=20, model__dropout_rate=0.2, model__neurons_1=512, model__neurons_2=64, model__optimizer=adam; total time= 4.3min\n"
     ]
    },
    {
     "name": "stderr",
     "output_type": "stream",
     "text": [
      "C:\\Users\\aless\\anaconda3\\Lib\\site-packages\\keras\\src\\layers\\core\\dense.py:87: UserWarning: Do not pass an `input_shape`/`input_dim` argument to a layer. When using Sequential models, prefer using an `Input(shape)` object as the first layer in the model instead.\n",
      "  super().__init__(activity_regularizer=activity_regularizer, **kwargs)\n"
     ]
    },
    {
     "name": "stdout",
     "output_type": "stream",
     "text": [
      "[CV] END batch_size=16, epochs=20, model__dropout_rate=0.2, model__neurons_1=512, model__neurons_2=64, model__optimizer=adam; total time= 4.3min\n"
     ]
    },
    {
     "name": "stderr",
     "output_type": "stream",
     "text": [
      "C:\\Users\\aless\\anaconda3\\Lib\\site-packages\\keras\\src\\layers\\core\\dense.py:87: UserWarning: Do not pass an `input_shape`/`input_dim` argument to a layer. When using Sequential models, prefer using an `Input(shape)` object as the first layer in the model instead.\n",
      "  super().__init__(activity_regularizer=activity_regularizer, **kwargs)\n"
     ]
    },
    {
     "name": "stdout",
     "output_type": "stream",
     "text": [
      "[CV] END batch_size=16, epochs=20, model__dropout_rate=0.2, model__neurons_1=512, model__neurons_2=64, model__optimizer=adam; total time= 4.2min\n"
     ]
    },
    {
     "name": "stderr",
     "output_type": "stream",
     "text": [
      "C:\\Users\\aless\\anaconda3\\Lib\\site-packages\\keras\\src\\layers\\core\\dense.py:87: UserWarning: Do not pass an `input_shape`/`input_dim` argument to a layer. When using Sequential models, prefer using an `Input(shape)` object as the first layer in the model instead.\n",
      "  super().__init__(activity_regularizer=activity_regularizer, **kwargs)\n"
     ]
    },
    {
     "name": "stdout",
     "output_type": "stream",
     "text": [
      "[CV] END batch_size=32, epochs=50, model__dropout_rate=0.3, model__neurons_1=32, model__neurons_2=128, model__optimizer=adam; total time= 4.7min\n"
     ]
    },
    {
     "name": "stderr",
     "output_type": "stream",
     "text": [
      "C:\\Users\\aless\\anaconda3\\Lib\\site-packages\\keras\\src\\layers\\core\\dense.py:87: UserWarning: Do not pass an `input_shape`/`input_dim` argument to a layer. When using Sequential models, prefer using an `Input(shape)` object as the first layer in the model instead.\n",
      "  super().__init__(activity_regularizer=activity_regularizer, **kwargs)\n"
     ]
    },
    {
     "name": "stdout",
     "output_type": "stream",
     "text": [
      "[CV] END batch_size=32, epochs=50, model__dropout_rate=0.3, model__neurons_1=32, model__neurons_2=128, model__optimizer=adam; total time= 4.9min\n"
     ]
    },
    {
     "name": "stderr",
     "output_type": "stream",
     "text": [
      "C:\\Users\\aless\\anaconda3\\Lib\\site-packages\\keras\\src\\layers\\core\\dense.py:87: UserWarning: Do not pass an `input_shape`/`input_dim` argument to a layer. When using Sequential models, prefer using an `Input(shape)` object as the first layer in the model instead.\n",
      "  super().__init__(activity_regularizer=activity_regularizer, **kwargs)\n"
     ]
    },
    {
     "name": "stdout",
     "output_type": "stream",
     "text": [
      "[CV] END batch_size=32, epochs=50, model__dropout_rate=0.3, model__neurons_1=32, model__neurons_2=128, model__optimizer=adam; total time= 4.8min\n"
     ]
    },
    {
     "name": "stderr",
     "output_type": "stream",
     "text": [
      "C:\\Users\\aless\\anaconda3\\Lib\\site-packages\\keras\\src\\layers\\core\\dense.py:87: UserWarning: Do not pass an `input_shape`/`input_dim` argument to a layer. When using Sequential models, prefer using an `Input(shape)` object as the first layer in the model instead.\n",
      "  super().__init__(activity_regularizer=activity_regularizer, **kwargs)\n"
     ]
    },
    {
     "name": "stdout",
     "output_type": "stream",
     "text": [
      "[CV] END batch_size=32, epochs=50, model__dropout_rate=0.3, model__neurons_1=32, model__neurons_2=128, model__optimizer=adam; total time= 4.8min\n"
     ]
    },
    {
     "name": "stderr",
     "output_type": "stream",
     "text": [
      "C:\\Users\\aless\\anaconda3\\Lib\\site-packages\\keras\\src\\layers\\core\\dense.py:87: UserWarning: Do not pass an `input_shape`/`input_dim` argument to a layer. When using Sequential models, prefer using an `Input(shape)` object as the first layer in the model instead.\n",
      "  super().__init__(activity_regularizer=activity_regularizer, **kwargs)\n"
     ]
    },
    {
     "name": "stdout",
     "output_type": "stream",
     "text": [
      "[CV] END batch_size=32, epochs=50, model__dropout_rate=0.3, model__neurons_1=32, model__neurons_2=128, model__optimizer=adam; total time= 4.8min\n"
     ]
    },
    {
     "name": "stderr",
     "output_type": "stream",
     "text": [
      "C:\\Users\\aless\\anaconda3\\Lib\\site-packages\\keras\\src\\layers\\core\\dense.py:87: UserWarning: Do not pass an `input_shape`/`input_dim` argument to a layer. When using Sequential models, prefer using an `Input(shape)` object as the first layer in the model instead.\n",
      "  super().__init__(activity_regularizer=activity_regularizer, **kwargs)\n"
     ]
    },
    {
     "name": "stdout",
     "output_type": "stream",
     "text": [
      "[CV] END batch_size=32, epochs=30, model__dropout_rate=0.7, model__neurons_1=128, model__neurons_2=128, model__optimizer=rmsprop; total time= 3.1min\n"
     ]
    },
    {
     "name": "stderr",
     "output_type": "stream",
     "text": [
      "C:\\Users\\aless\\anaconda3\\Lib\\site-packages\\keras\\src\\layers\\core\\dense.py:87: UserWarning: Do not pass an `input_shape`/`input_dim` argument to a layer. When using Sequential models, prefer using an `Input(shape)` object as the first layer in the model instead.\n",
      "  super().__init__(activity_regularizer=activity_regularizer, **kwargs)\n"
     ]
    },
    {
     "name": "stdout",
     "output_type": "stream",
     "text": [
      "[CV] END batch_size=32, epochs=30, model__dropout_rate=0.7, model__neurons_1=128, model__neurons_2=128, model__optimizer=rmsprop; total time= 3.1min\n"
     ]
    },
    {
     "name": "stderr",
     "output_type": "stream",
     "text": [
      "C:\\Users\\aless\\anaconda3\\Lib\\site-packages\\keras\\src\\layers\\core\\dense.py:87: UserWarning: Do not pass an `input_shape`/`input_dim` argument to a layer. When using Sequential models, prefer using an `Input(shape)` object as the first layer in the model instead.\n",
      "  super().__init__(activity_regularizer=activity_regularizer, **kwargs)\n"
     ]
    },
    {
     "name": "stdout",
     "output_type": "stream",
     "text": [
      "[CV] END batch_size=32, epochs=30, model__dropout_rate=0.7, model__neurons_1=128, model__neurons_2=128, model__optimizer=rmsprop; total time= 3.1min\n"
     ]
    },
    {
     "name": "stderr",
     "output_type": "stream",
     "text": [
      "C:\\Users\\aless\\anaconda3\\Lib\\site-packages\\keras\\src\\layers\\core\\dense.py:87: UserWarning: Do not pass an `input_shape`/`input_dim` argument to a layer. When using Sequential models, prefer using an `Input(shape)` object as the first layer in the model instead.\n",
      "  super().__init__(activity_regularizer=activity_regularizer, **kwargs)\n"
     ]
    },
    {
     "name": "stdout",
     "output_type": "stream",
     "text": [
      "[CV] END batch_size=32, epochs=30, model__dropout_rate=0.7, model__neurons_1=128, model__neurons_2=128, model__optimizer=rmsprop; total time= 3.0min\n"
     ]
    },
    {
     "name": "stderr",
     "output_type": "stream",
     "text": [
      "C:\\Users\\aless\\anaconda3\\Lib\\site-packages\\keras\\src\\layers\\core\\dense.py:87: UserWarning: Do not pass an `input_shape`/`input_dim` argument to a layer. When using Sequential models, prefer using an `Input(shape)` object as the first layer in the model instead.\n",
      "  super().__init__(activity_regularizer=activity_regularizer, **kwargs)\n"
     ]
    },
    {
     "name": "stdout",
     "output_type": "stream",
     "text": [
      "[CV] END batch_size=32, epochs=30, model__dropout_rate=0.7, model__neurons_1=128, model__neurons_2=128, model__optimizer=rmsprop; total time= 3.1min\n"
     ]
    },
    {
     "name": "stderr",
     "output_type": "stream",
     "text": [
      "C:\\Users\\aless\\anaconda3\\Lib\\site-packages\\keras\\src\\layers\\core\\dense.py:87: UserWarning: Do not pass an `input_shape`/`input_dim` argument to a layer. When using Sequential models, prefer using an `Input(shape)` object as the first layer in the model instead.\n",
      "  super().__init__(activity_regularizer=activity_regularizer, **kwargs)\n"
     ]
    },
    {
     "name": "stdout",
     "output_type": "stream",
     "text": [
      "[CV] END batch_size=128, epochs=50, model__dropout_rate=0.7, model__neurons_1=256, model__neurons_2=64, model__optimizer=nadam; total time= 1.8min\n"
     ]
    },
    {
     "name": "stderr",
     "output_type": "stream",
     "text": [
      "C:\\Users\\aless\\anaconda3\\Lib\\site-packages\\keras\\src\\layers\\core\\dense.py:87: UserWarning: Do not pass an `input_shape`/`input_dim` argument to a layer. When using Sequential models, prefer using an `Input(shape)` object as the first layer in the model instead.\n",
      "  super().__init__(activity_regularizer=activity_regularizer, **kwargs)\n"
     ]
    },
    {
     "name": "stdout",
     "output_type": "stream",
     "text": [
      "[CV] END batch_size=128, epochs=50, model__dropout_rate=0.7, model__neurons_1=256, model__neurons_2=64, model__optimizer=nadam; total time= 1.9min\n"
     ]
    },
    {
     "name": "stderr",
     "output_type": "stream",
     "text": [
      "C:\\Users\\aless\\anaconda3\\Lib\\site-packages\\keras\\src\\layers\\core\\dense.py:87: UserWarning: Do not pass an `input_shape`/`input_dim` argument to a layer. When using Sequential models, prefer using an `Input(shape)` object as the first layer in the model instead.\n",
      "  super().__init__(activity_regularizer=activity_regularizer, **kwargs)\n"
     ]
    },
    {
     "name": "stdout",
     "output_type": "stream",
     "text": [
      "[CV] END batch_size=128, epochs=50, model__dropout_rate=0.7, model__neurons_1=256, model__neurons_2=64, model__optimizer=nadam; total time= 1.9min\n"
     ]
    },
    {
     "name": "stderr",
     "output_type": "stream",
     "text": [
      "C:\\Users\\aless\\anaconda3\\Lib\\site-packages\\keras\\src\\layers\\core\\dense.py:87: UserWarning: Do not pass an `input_shape`/`input_dim` argument to a layer. When using Sequential models, prefer using an `Input(shape)` object as the first layer in the model instead.\n",
      "  super().__init__(activity_regularizer=activity_regularizer, **kwargs)\n"
     ]
    },
    {
     "name": "stdout",
     "output_type": "stream",
     "text": [
      "[CV] END batch_size=128, epochs=50, model__dropout_rate=0.7, model__neurons_1=256, model__neurons_2=64, model__optimizer=nadam; total time= 1.9min\n"
     ]
    },
    {
     "name": "stderr",
     "output_type": "stream",
     "text": [
      "C:\\Users\\aless\\anaconda3\\Lib\\site-packages\\keras\\src\\layers\\core\\dense.py:87: UserWarning: Do not pass an `input_shape`/`input_dim` argument to a layer. When using Sequential models, prefer using an `Input(shape)` object as the first layer in the model instead.\n",
      "  super().__init__(activity_regularizer=activity_regularizer, **kwargs)\n"
     ]
    },
    {
     "name": "stdout",
     "output_type": "stream",
     "text": [
      "[CV] END batch_size=128, epochs=50, model__dropout_rate=0.7, model__neurons_1=256, model__neurons_2=64, model__optimizer=nadam; total time= 1.9min\n"
     ]
    },
    {
     "name": "stderr",
     "output_type": "stream",
     "text": [
      "C:\\Users\\aless\\anaconda3\\Lib\\site-packages\\keras\\src\\layers\\core\\dense.py:87: UserWarning: Do not pass an `input_shape`/`input_dim` argument to a layer. When using Sequential models, prefer using an `Input(shape)` object as the first layer in the model instead.\n",
      "  super().__init__(activity_regularizer=activity_regularizer, **kwargs)\n"
     ]
    },
    {
     "name": "stdout",
     "output_type": "stream",
     "text": [
      "[CV] END batch_size=128, epochs=50, model__dropout_rate=0.2, model__neurons_1=64, model__neurons_2=32, model__optimizer=nadam; total time= 1.4min\n"
     ]
    },
    {
     "name": "stderr",
     "output_type": "stream",
     "text": [
      "C:\\Users\\aless\\anaconda3\\Lib\\site-packages\\keras\\src\\layers\\core\\dense.py:87: UserWarning: Do not pass an `input_shape`/`input_dim` argument to a layer. When using Sequential models, prefer using an `Input(shape)` object as the first layer in the model instead.\n",
      "  super().__init__(activity_regularizer=activity_regularizer, **kwargs)\n"
     ]
    },
    {
     "name": "stdout",
     "output_type": "stream",
     "text": [
      "[CV] END batch_size=128, epochs=50, model__dropout_rate=0.2, model__neurons_1=64, model__neurons_2=32, model__optimizer=nadam; total time= 1.4min\n"
     ]
    },
    {
     "name": "stderr",
     "output_type": "stream",
     "text": [
      "C:\\Users\\aless\\anaconda3\\Lib\\site-packages\\keras\\src\\layers\\core\\dense.py:87: UserWarning: Do not pass an `input_shape`/`input_dim` argument to a layer. When using Sequential models, prefer using an `Input(shape)` object as the first layer in the model instead.\n",
      "  super().__init__(activity_regularizer=activity_regularizer, **kwargs)\n"
     ]
    },
    {
     "name": "stdout",
     "output_type": "stream",
     "text": [
      "[CV] END batch_size=128, epochs=50, model__dropout_rate=0.2, model__neurons_1=64, model__neurons_2=32, model__optimizer=nadam; total time= 1.5min\n"
     ]
    },
    {
     "name": "stderr",
     "output_type": "stream",
     "text": [
      "C:\\Users\\aless\\anaconda3\\Lib\\site-packages\\keras\\src\\layers\\core\\dense.py:87: UserWarning: Do not pass an `input_shape`/`input_dim` argument to a layer. When using Sequential models, prefer using an `Input(shape)` object as the first layer in the model instead.\n",
      "  super().__init__(activity_regularizer=activity_regularizer, **kwargs)\n"
     ]
    },
    {
     "name": "stdout",
     "output_type": "stream",
     "text": [
      "[CV] END batch_size=128, epochs=50, model__dropout_rate=0.2, model__neurons_1=64, model__neurons_2=32, model__optimizer=nadam; total time= 1.5min\n"
     ]
    },
    {
     "name": "stderr",
     "output_type": "stream",
     "text": [
      "C:\\Users\\aless\\anaconda3\\Lib\\site-packages\\keras\\src\\layers\\core\\dense.py:87: UserWarning: Do not pass an `input_shape`/`input_dim` argument to a layer. When using Sequential models, prefer using an `Input(shape)` object as the first layer in the model instead.\n",
      "  super().__init__(activity_regularizer=activity_regularizer, **kwargs)\n"
     ]
    },
    {
     "name": "stdout",
     "output_type": "stream",
     "text": [
      "[CV] END batch_size=128, epochs=50, model__dropout_rate=0.2, model__neurons_1=64, model__neurons_2=32, model__optimizer=nadam; total time= 1.4min\n"
     ]
    },
    {
     "name": "stderr",
     "output_type": "stream",
     "text": [
      "C:\\Users\\aless\\anaconda3\\Lib\\site-packages\\keras\\src\\layers\\core\\dense.py:87: UserWarning: Do not pass an `input_shape`/`input_dim` argument to a layer. When using Sequential models, prefer using an `Input(shape)` object as the first layer in the model instead.\n",
      "  super().__init__(activity_regularizer=activity_regularizer, **kwargs)\n"
     ]
    },
    {
     "name": "stdout",
     "output_type": "stream",
     "text": [
      "[CV] END batch_size=32, epochs=50, model__dropout_rate=0.5, model__neurons_1=512, model__neurons_2=32, model__optimizer=nadam; total time= 5.6min\n"
     ]
    },
    {
     "name": "stderr",
     "output_type": "stream",
     "text": [
      "C:\\Users\\aless\\anaconda3\\Lib\\site-packages\\keras\\src\\layers\\core\\dense.py:87: UserWarning: Do not pass an `input_shape`/`input_dim` argument to a layer. When using Sequential models, prefer using an `Input(shape)` object as the first layer in the model instead.\n",
      "  super().__init__(activity_regularizer=activity_regularizer, **kwargs)\n"
     ]
    },
    {
     "name": "stdout",
     "output_type": "stream",
     "text": [
      "[CV] END batch_size=32, epochs=50, model__dropout_rate=0.5, model__neurons_1=512, model__neurons_2=32, model__optimizer=nadam; total time= 5.7min\n"
     ]
    },
    {
     "name": "stderr",
     "output_type": "stream",
     "text": [
      "C:\\Users\\aless\\anaconda3\\Lib\\site-packages\\keras\\src\\layers\\core\\dense.py:87: UserWarning: Do not pass an `input_shape`/`input_dim` argument to a layer. When using Sequential models, prefer using an `Input(shape)` object as the first layer in the model instead.\n",
      "  super().__init__(activity_regularizer=activity_regularizer, **kwargs)\n"
     ]
    },
    {
     "name": "stdout",
     "output_type": "stream",
     "text": [
      "[CV] END batch_size=32, epochs=50, model__dropout_rate=0.5, model__neurons_1=512, model__neurons_2=32, model__optimizer=nadam; total time= 5.8min\n"
     ]
    },
    {
     "name": "stderr",
     "output_type": "stream",
     "text": [
      "C:\\Users\\aless\\anaconda3\\Lib\\site-packages\\keras\\src\\layers\\core\\dense.py:87: UserWarning: Do not pass an `input_shape`/`input_dim` argument to a layer. When using Sequential models, prefer using an `Input(shape)` object as the first layer in the model instead.\n",
      "  super().__init__(activity_regularizer=activity_regularizer, **kwargs)\n"
     ]
    },
    {
     "name": "stdout",
     "output_type": "stream",
     "text": [
      "[CV] END batch_size=32, epochs=50, model__dropout_rate=0.5, model__neurons_1=512, model__neurons_2=32, model__optimizer=nadam; total time= 5.7min\n"
     ]
    },
    {
     "name": "stderr",
     "output_type": "stream",
     "text": [
      "C:\\Users\\aless\\anaconda3\\Lib\\site-packages\\keras\\src\\layers\\core\\dense.py:87: UserWarning: Do not pass an `input_shape`/`input_dim` argument to a layer. When using Sequential models, prefer using an `Input(shape)` object as the first layer in the model instead.\n",
      "  super().__init__(activity_regularizer=activity_regularizer, **kwargs)\n"
     ]
    },
    {
     "name": "stdout",
     "output_type": "stream",
     "text": [
      "[CV] END batch_size=32, epochs=50, model__dropout_rate=0.5, model__neurons_1=512, model__neurons_2=32, model__optimizer=nadam; total time= 5.6min\n"
     ]
    },
    {
     "name": "stderr",
     "output_type": "stream",
     "text": [
      "C:\\Users\\aless\\anaconda3\\Lib\\site-packages\\keras\\src\\layers\\core\\dense.py:87: UserWarning: Do not pass an `input_shape`/`input_dim` argument to a layer. When using Sequential models, prefer using an `Input(shape)` object as the first layer in the model instead.\n",
      "  super().__init__(activity_regularizer=activity_regularizer, **kwargs)\n"
     ]
    },
    {
     "name": "stdout",
     "output_type": "stream",
     "text": [
      "[CV] END batch_size=64, epochs=10, model__dropout_rate=0.4, model__neurons_1=32, model__neurons_2=128, model__optimizer=adam; total time=  36.5s\n"
     ]
    },
    {
     "name": "stderr",
     "output_type": "stream",
     "text": [
      "C:\\Users\\aless\\anaconda3\\Lib\\site-packages\\keras\\src\\layers\\core\\dense.py:87: UserWarning: Do not pass an `input_shape`/`input_dim` argument to a layer. When using Sequential models, prefer using an `Input(shape)` object as the first layer in the model instead.\n",
      "  super().__init__(activity_regularizer=activity_regularizer, **kwargs)\n"
     ]
    },
    {
     "name": "stdout",
     "output_type": "stream",
     "text": [
      "[CV] END batch_size=64, epochs=10, model__dropout_rate=0.4, model__neurons_1=32, model__neurons_2=128, model__optimizer=adam; total time=  35.0s\n"
     ]
    },
    {
     "name": "stderr",
     "output_type": "stream",
     "text": [
      "C:\\Users\\aless\\anaconda3\\Lib\\site-packages\\keras\\src\\layers\\core\\dense.py:87: UserWarning: Do not pass an `input_shape`/`input_dim` argument to a layer. When using Sequential models, prefer using an `Input(shape)` object as the first layer in the model instead.\n",
      "  super().__init__(activity_regularizer=activity_regularizer, **kwargs)\n"
     ]
    },
    {
     "name": "stdout",
     "output_type": "stream",
     "text": [
      "[CV] END batch_size=64, epochs=10, model__dropout_rate=0.4, model__neurons_1=32, model__neurons_2=128, model__optimizer=adam; total time=  36.9s\n"
     ]
    },
    {
     "name": "stderr",
     "output_type": "stream",
     "text": [
      "C:\\Users\\aless\\anaconda3\\Lib\\site-packages\\keras\\src\\layers\\core\\dense.py:87: UserWarning: Do not pass an `input_shape`/`input_dim` argument to a layer. When using Sequential models, prefer using an `Input(shape)` object as the first layer in the model instead.\n",
      "  super().__init__(activity_regularizer=activity_regularizer, **kwargs)\n"
     ]
    },
    {
     "name": "stdout",
     "output_type": "stream",
     "text": [
      "[CV] END batch_size=64, epochs=10, model__dropout_rate=0.4, model__neurons_1=32, model__neurons_2=128, model__optimizer=adam; total time=  36.2s\n"
     ]
    },
    {
     "name": "stderr",
     "output_type": "stream",
     "text": [
      "C:\\Users\\aless\\anaconda3\\Lib\\site-packages\\keras\\src\\layers\\core\\dense.py:87: UserWarning: Do not pass an `input_shape`/`input_dim` argument to a layer. When using Sequential models, prefer using an `Input(shape)` object as the first layer in the model instead.\n",
      "  super().__init__(activity_regularizer=activity_regularizer, **kwargs)\n"
     ]
    },
    {
     "name": "stdout",
     "output_type": "stream",
     "text": [
      "[CV] END batch_size=64, epochs=10, model__dropout_rate=0.4, model__neurons_1=32, model__neurons_2=128, model__optimizer=adam; total time=  36.4s\n"
     ]
    },
    {
     "name": "stderr",
     "output_type": "stream",
     "text": [
      "C:\\Users\\aless\\anaconda3\\Lib\\site-packages\\keras\\src\\layers\\core\\dense.py:87: UserWarning: Do not pass an `input_shape`/`input_dim` argument to a layer. When using Sequential models, prefer using an `Input(shape)` object as the first layer in the model instead.\n",
      "  super().__init__(activity_regularizer=activity_regularizer, **kwargs)\n"
     ]
    },
    {
     "name": "stdout",
     "output_type": "stream",
     "text": [
      "[CV] END batch_size=16, epochs=10, model__dropout_rate=0.5, model__neurons_1=256, model__neurons_2=128, model__optimizer=rmsprop; total time= 2.2min\n"
     ]
    },
    {
     "name": "stderr",
     "output_type": "stream",
     "text": [
      "C:\\Users\\aless\\anaconda3\\Lib\\site-packages\\keras\\src\\layers\\core\\dense.py:87: UserWarning: Do not pass an `input_shape`/`input_dim` argument to a layer. When using Sequential models, prefer using an `Input(shape)` object as the first layer in the model instead.\n",
      "  super().__init__(activity_regularizer=activity_regularizer, **kwargs)\n"
     ]
    },
    {
     "name": "stdout",
     "output_type": "stream",
     "text": [
      "[CV] END batch_size=16, epochs=10, model__dropout_rate=0.5, model__neurons_1=256, model__neurons_2=128, model__optimizer=rmsprop; total time= 2.1min\n"
     ]
    },
    {
     "name": "stderr",
     "output_type": "stream",
     "text": [
      "C:\\Users\\aless\\anaconda3\\Lib\\site-packages\\keras\\src\\layers\\core\\dense.py:87: UserWarning: Do not pass an `input_shape`/`input_dim` argument to a layer. When using Sequential models, prefer using an `Input(shape)` object as the first layer in the model instead.\n",
      "  super().__init__(activity_regularizer=activity_regularizer, **kwargs)\n"
     ]
    },
    {
     "name": "stdout",
     "output_type": "stream",
     "text": [
      "[CV] END batch_size=16, epochs=10, model__dropout_rate=0.5, model__neurons_1=256, model__neurons_2=128, model__optimizer=rmsprop; total time= 2.1min\n"
     ]
    },
    {
     "name": "stderr",
     "output_type": "stream",
     "text": [
      "C:\\Users\\aless\\anaconda3\\Lib\\site-packages\\keras\\src\\layers\\core\\dense.py:87: UserWarning: Do not pass an `input_shape`/`input_dim` argument to a layer. When using Sequential models, prefer using an `Input(shape)` object as the first layer in the model instead.\n",
      "  super().__init__(activity_regularizer=activity_regularizer, **kwargs)\n"
     ]
    },
    {
     "name": "stdout",
     "output_type": "stream",
     "text": [
      "[CV] END batch_size=16, epochs=10, model__dropout_rate=0.5, model__neurons_1=256, model__neurons_2=128, model__optimizer=rmsprop; total time= 2.1min\n"
     ]
    },
    {
     "name": "stderr",
     "output_type": "stream",
     "text": [
      "C:\\Users\\aless\\anaconda3\\Lib\\site-packages\\keras\\src\\layers\\core\\dense.py:87: UserWarning: Do not pass an `input_shape`/`input_dim` argument to a layer. When using Sequential models, prefer using an `Input(shape)` object as the first layer in the model instead.\n",
      "  super().__init__(activity_regularizer=activity_regularizer, **kwargs)\n"
     ]
    },
    {
     "name": "stdout",
     "output_type": "stream",
     "text": [
      "[CV] END batch_size=16, epochs=10, model__dropout_rate=0.5, model__neurons_1=256, model__neurons_2=128, model__optimizer=rmsprop; total time= 2.1min\n"
     ]
    },
    {
     "name": "stderr",
     "output_type": "stream",
     "text": [
      "C:\\Users\\aless\\anaconda3\\Lib\\site-packages\\keras\\src\\layers\\core\\dense.py:87: UserWarning: Do not pass an `input_shape`/`input_dim` argument to a layer. When using Sequential models, prefer using an `Input(shape)` object as the first layer in the model instead.\n",
      "  super().__init__(activity_regularizer=activity_regularizer, **kwargs)\n"
     ]
    },
    {
     "name": "stdout",
     "output_type": "stream",
     "text": [
      "[CV] END batch_size=32, epochs=20, model__dropout_rate=0.7, model__neurons_1=128, model__neurons_2=16, model__optimizer=rmsprop; total time= 2.0min\n"
     ]
    },
    {
     "name": "stderr",
     "output_type": "stream",
     "text": [
      "C:\\Users\\aless\\anaconda3\\Lib\\site-packages\\keras\\src\\layers\\core\\dense.py:87: UserWarning: Do not pass an `input_shape`/`input_dim` argument to a layer. When using Sequential models, prefer using an `Input(shape)` object as the first layer in the model instead.\n",
      "  super().__init__(activity_regularizer=activity_regularizer, **kwargs)\n"
     ]
    },
    {
     "name": "stdout",
     "output_type": "stream",
     "text": [
      "[CV] END batch_size=32, epochs=20, model__dropout_rate=0.7, model__neurons_1=128, model__neurons_2=16, model__optimizer=rmsprop; total time= 1.9min\n"
     ]
    },
    {
     "name": "stderr",
     "output_type": "stream",
     "text": [
      "C:\\Users\\aless\\anaconda3\\Lib\\site-packages\\keras\\src\\layers\\core\\dense.py:87: UserWarning: Do not pass an `input_shape`/`input_dim` argument to a layer. When using Sequential models, prefer using an `Input(shape)` object as the first layer in the model instead.\n",
      "  super().__init__(activity_regularizer=activity_regularizer, **kwargs)\n"
     ]
    },
    {
     "name": "stdout",
     "output_type": "stream",
     "text": [
      "[CV] END batch_size=32, epochs=20, model__dropout_rate=0.7, model__neurons_1=128, model__neurons_2=16, model__optimizer=rmsprop; total time= 2.0min\n"
     ]
    },
    {
     "name": "stderr",
     "output_type": "stream",
     "text": [
      "C:\\Users\\aless\\anaconda3\\Lib\\site-packages\\keras\\src\\layers\\core\\dense.py:87: UserWarning: Do not pass an `input_shape`/`input_dim` argument to a layer. When using Sequential models, prefer using an `Input(shape)` object as the first layer in the model instead.\n",
      "  super().__init__(activity_regularizer=activity_regularizer, **kwargs)\n"
     ]
    },
    {
     "name": "stdout",
     "output_type": "stream",
     "text": [
      "[CV] END batch_size=32, epochs=20, model__dropout_rate=0.7, model__neurons_1=128, model__neurons_2=16, model__optimizer=rmsprop; total time= 2.0min\n"
     ]
    },
    {
     "name": "stderr",
     "output_type": "stream",
     "text": [
      "C:\\Users\\aless\\anaconda3\\Lib\\site-packages\\keras\\src\\layers\\core\\dense.py:87: UserWarning: Do not pass an `input_shape`/`input_dim` argument to a layer. When using Sequential models, prefer using an `Input(shape)` object as the first layer in the model instead.\n",
      "  super().__init__(activity_regularizer=activity_regularizer, **kwargs)\n"
     ]
    },
    {
     "name": "stdout",
     "output_type": "stream",
     "text": [
      "[CV] END batch_size=32, epochs=20, model__dropout_rate=0.7, model__neurons_1=128, model__neurons_2=16, model__optimizer=rmsprop; total time= 2.0min\n"
     ]
    },
    {
     "name": "stderr",
     "output_type": "stream",
     "text": [
      "C:\\Users\\aless\\anaconda3\\Lib\\site-packages\\keras\\src\\layers\\core\\dense.py:87: UserWarning: Do not pass an `input_shape`/`input_dim` argument to a layer. When using Sequential models, prefer using an `Input(shape)` object as the first layer in the model instead.\n",
      "  super().__init__(activity_regularizer=activity_regularizer, **kwargs)\n"
     ]
    },
    {
     "name": "stdout",
     "output_type": "stream",
     "text": [
      "[CV] END batch_size=32, epochs=50, model__dropout_rate=0.4, model__neurons_1=256, model__neurons_2=16, model__optimizer=adagrad; total time= 5.1min\n"
     ]
    },
    {
     "name": "stderr",
     "output_type": "stream",
     "text": [
      "C:\\Users\\aless\\anaconda3\\Lib\\site-packages\\keras\\src\\layers\\core\\dense.py:87: UserWarning: Do not pass an `input_shape`/`input_dim` argument to a layer. When using Sequential models, prefer using an `Input(shape)` object as the first layer in the model instead.\n",
      "  super().__init__(activity_regularizer=activity_regularizer, **kwargs)\n"
     ]
    },
    {
     "name": "stdout",
     "output_type": "stream",
     "text": [
      "[CV] END batch_size=32, epochs=50, model__dropout_rate=0.4, model__neurons_1=256, model__neurons_2=16, model__optimizer=adagrad; total time= 5.1min\n"
     ]
    },
    {
     "name": "stderr",
     "output_type": "stream",
     "text": [
      "C:\\Users\\aless\\anaconda3\\Lib\\site-packages\\keras\\src\\layers\\core\\dense.py:87: UserWarning: Do not pass an `input_shape`/`input_dim` argument to a layer. When using Sequential models, prefer using an `Input(shape)` object as the first layer in the model instead.\n",
      "  super().__init__(activity_regularizer=activity_regularizer, **kwargs)\n"
     ]
    },
    {
     "name": "stdout",
     "output_type": "stream",
     "text": [
      "[CV] END batch_size=32, epochs=50, model__dropout_rate=0.4, model__neurons_1=256, model__neurons_2=16, model__optimizer=adagrad; total time= 5.1min\n"
     ]
    },
    {
     "name": "stderr",
     "output_type": "stream",
     "text": [
      "C:\\Users\\aless\\anaconda3\\Lib\\site-packages\\keras\\src\\layers\\core\\dense.py:87: UserWarning: Do not pass an `input_shape`/`input_dim` argument to a layer. When using Sequential models, prefer using an `Input(shape)` object as the first layer in the model instead.\n",
      "  super().__init__(activity_regularizer=activity_regularizer, **kwargs)\n"
     ]
    },
    {
     "name": "stdout",
     "output_type": "stream",
     "text": [
      "[CV] END batch_size=32, epochs=50, model__dropout_rate=0.4, model__neurons_1=256, model__neurons_2=16, model__optimizer=adagrad; total time= 5.2min\n"
     ]
    },
    {
     "name": "stderr",
     "output_type": "stream",
     "text": [
      "C:\\Users\\aless\\anaconda3\\Lib\\site-packages\\keras\\src\\layers\\core\\dense.py:87: UserWarning: Do not pass an `input_shape`/`input_dim` argument to a layer. When using Sequential models, prefer using an `Input(shape)` object as the first layer in the model instead.\n",
      "  super().__init__(activity_regularizer=activity_regularizer, **kwargs)\n"
     ]
    },
    {
     "name": "stdout",
     "output_type": "stream",
     "text": [
      "[CV] END batch_size=32, epochs=50, model__dropout_rate=0.4, model__neurons_1=256, model__neurons_2=16, model__optimizer=adagrad; total time= 5.1min\n"
     ]
    },
    {
     "name": "stderr",
     "output_type": "stream",
     "text": [
      "C:\\Users\\aless\\anaconda3\\Lib\\site-packages\\keras\\src\\layers\\core\\dense.py:87: UserWarning: Do not pass an `input_shape`/`input_dim` argument to a layer. When using Sequential models, prefer using an `Input(shape)` object as the first layer in the model instead.\n",
      "  super().__init__(activity_regularizer=activity_regularizer, **kwargs)\n"
     ]
    },
    {
     "name": "stdout",
     "output_type": "stream",
     "text": [
      "[CV] END batch_size=128, epochs=50, model__dropout_rate=0.5, model__neurons_1=32, model__neurons_2=64, model__optimizer=rmsprop; total time= 1.4min\n"
     ]
    },
    {
     "name": "stderr",
     "output_type": "stream",
     "text": [
      "C:\\Users\\aless\\anaconda3\\Lib\\site-packages\\keras\\src\\layers\\core\\dense.py:87: UserWarning: Do not pass an `input_shape`/`input_dim` argument to a layer. When using Sequential models, prefer using an `Input(shape)` object as the first layer in the model instead.\n",
      "  super().__init__(activity_regularizer=activity_regularizer, **kwargs)\n"
     ]
    },
    {
     "name": "stdout",
     "output_type": "stream",
     "text": [
      "[CV] END batch_size=128, epochs=50, model__dropout_rate=0.5, model__neurons_1=32, model__neurons_2=64, model__optimizer=rmsprop; total time= 1.4min\n"
     ]
    },
    {
     "name": "stderr",
     "output_type": "stream",
     "text": [
      "C:\\Users\\aless\\anaconda3\\Lib\\site-packages\\keras\\src\\layers\\core\\dense.py:87: UserWarning: Do not pass an `input_shape`/`input_dim` argument to a layer. When using Sequential models, prefer using an `Input(shape)` object as the first layer in the model instead.\n",
      "  super().__init__(activity_regularizer=activity_regularizer, **kwargs)\n"
     ]
    },
    {
     "name": "stdout",
     "output_type": "stream",
     "text": [
      "[CV] END batch_size=128, epochs=50, model__dropout_rate=0.5, model__neurons_1=32, model__neurons_2=64, model__optimizer=rmsprop; total time= 1.4min\n"
     ]
    },
    {
     "name": "stderr",
     "output_type": "stream",
     "text": [
      "C:\\Users\\aless\\anaconda3\\Lib\\site-packages\\keras\\src\\layers\\core\\dense.py:87: UserWarning: Do not pass an `input_shape`/`input_dim` argument to a layer. When using Sequential models, prefer using an `Input(shape)` object as the first layer in the model instead.\n",
      "  super().__init__(activity_regularizer=activity_regularizer, **kwargs)\n"
     ]
    },
    {
     "name": "stdout",
     "output_type": "stream",
     "text": [
      "[CV] END batch_size=128, epochs=50, model__dropout_rate=0.5, model__neurons_1=32, model__neurons_2=64, model__optimizer=rmsprop; total time= 1.4min\n"
     ]
    },
    {
     "name": "stderr",
     "output_type": "stream",
     "text": [
      "C:\\Users\\aless\\anaconda3\\Lib\\site-packages\\keras\\src\\layers\\core\\dense.py:87: UserWarning: Do not pass an `input_shape`/`input_dim` argument to a layer. When using Sequential models, prefer using an `Input(shape)` object as the first layer in the model instead.\n",
      "  super().__init__(activity_regularizer=activity_regularizer, **kwargs)\n"
     ]
    },
    {
     "name": "stdout",
     "output_type": "stream",
     "text": [
      "[CV] END batch_size=128, epochs=50, model__dropout_rate=0.5, model__neurons_1=32, model__neurons_2=64, model__optimizer=rmsprop; total time= 1.4min\n"
     ]
    },
    {
     "name": "stderr",
     "output_type": "stream",
     "text": [
      "C:\\Users\\aless\\anaconda3\\Lib\\site-packages\\keras\\src\\layers\\core\\dense.py:87: UserWarning: Do not pass an `input_shape`/`input_dim` argument to a layer. When using Sequential models, prefer using an `Input(shape)` object as the first layer in the model instead.\n",
      "  super().__init__(activity_regularizer=activity_regularizer, **kwargs)\n"
     ]
    },
    {
     "name": "stdout",
     "output_type": "stream",
     "text": [
      "[CV] END batch_size=128, epochs=50, model__dropout_rate=0.2, model__neurons_1=512, model__neurons_2=64, model__optimizer=adagrad; total time= 2.2min\n"
     ]
    },
    {
     "name": "stderr",
     "output_type": "stream",
     "text": [
      "C:\\Users\\aless\\anaconda3\\Lib\\site-packages\\keras\\src\\layers\\core\\dense.py:87: UserWarning: Do not pass an `input_shape`/`input_dim` argument to a layer. When using Sequential models, prefer using an `Input(shape)` object as the first layer in the model instead.\n",
      "  super().__init__(activity_regularizer=activity_regularizer, **kwargs)\n"
     ]
    },
    {
     "name": "stdout",
     "output_type": "stream",
     "text": [
      "[CV] END batch_size=128, epochs=50, model__dropout_rate=0.2, model__neurons_1=512, model__neurons_2=64, model__optimizer=adagrad; total time= 2.2min\n"
     ]
    },
    {
     "name": "stderr",
     "output_type": "stream",
     "text": [
      "C:\\Users\\aless\\anaconda3\\Lib\\site-packages\\keras\\src\\layers\\core\\dense.py:87: UserWarning: Do not pass an `input_shape`/`input_dim` argument to a layer. When using Sequential models, prefer using an `Input(shape)` object as the first layer in the model instead.\n",
      "  super().__init__(activity_regularizer=activity_regularizer, **kwargs)\n"
     ]
    },
    {
     "name": "stdout",
     "output_type": "stream",
     "text": [
      "[CV] END batch_size=128, epochs=50, model__dropout_rate=0.2, model__neurons_1=512, model__neurons_2=64, model__optimizer=adagrad; total time= 2.2min\n"
     ]
    },
    {
     "name": "stderr",
     "output_type": "stream",
     "text": [
      "C:\\Users\\aless\\anaconda3\\Lib\\site-packages\\keras\\src\\layers\\core\\dense.py:87: UserWarning: Do not pass an `input_shape`/`input_dim` argument to a layer. When using Sequential models, prefer using an `Input(shape)` object as the first layer in the model instead.\n",
      "  super().__init__(activity_regularizer=activity_regularizer, **kwargs)\n"
     ]
    },
    {
     "name": "stdout",
     "output_type": "stream",
     "text": [
      "[CV] END batch_size=128, epochs=50, model__dropout_rate=0.2, model__neurons_1=512, model__neurons_2=64, model__optimizer=adagrad; total time= 2.3min\n"
     ]
    },
    {
     "name": "stderr",
     "output_type": "stream",
     "text": [
      "C:\\Users\\aless\\anaconda3\\Lib\\site-packages\\keras\\src\\layers\\core\\dense.py:87: UserWarning: Do not pass an `input_shape`/`input_dim` argument to a layer. When using Sequential models, prefer using an `Input(shape)` object as the first layer in the model instead.\n",
      "  super().__init__(activity_regularizer=activity_regularizer, **kwargs)\n"
     ]
    },
    {
     "name": "stdout",
     "output_type": "stream",
     "text": [
      "[CV] END batch_size=128, epochs=50, model__dropout_rate=0.2, model__neurons_1=512, model__neurons_2=64, model__optimizer=adagrad; total time= 2.2min\n"
     ]
    },
    {
     "name": "stderr",
     "output_type": "stream",
     "text": [
      "C:\\Users\\aless\\anaconda3\\Lib\\site-packages\\keras\\src\\layers\\core\\dense.py:87: UserWarning: Do not pass an `input_shape`/`input_dim` argument to a layer. When using Sequential models, prefer using an `Input(shape)` object as the first layer in the model instead.\n",
      "  super().__init__(activity_regularizer=activity_regularizer, **kwargs)\n"
     ]
    },
    {
     "name": "stdout",
     "output_type": "stream",
     "text": [
      "[CV] END batch_size=128, epochs=30, model__dropout_rate=0.6, model__neurons_1=512, model__neurons_2=64, model__optimizer=rmsprop; total time= 1.4min\n"
     ]
    },
    {
     "name": "stderr",
     "output_type": "stream",
     "text": [
      "C:\\Users\\aless\\anaconda3\\Lib\\site-packages\\keras\\src\\layers\\core\\dense.py:87: UserWarning: Do not pass an `input_shape`/`input_dim` argument to a layer. When using Sequential models, prefer using an `Input(shape)` object as the first layer in the model instead.\n",
      "  super().__init__(activity_regularizer=activity_regularizer, **kwargs)\n"
     ]
    },
    {
     "name": "stdout",
     "output_type": "stream",
     "text": [
      "[CV] END batch_size=128, epochs=30, model__dropout_rate=0.6, model__neurons_1=512, model__neurons_2=64, model__optimizer=rmsprop; total time= 1.4min\n"
     ]
    },
    {
     "name": "stderr",
     "output_type": "stream",
     "text": [
      "C:\\Users\\aless\\anaconda3\\Lib\\site-packages\\keras\\src\\layers\\core\\dense.py:87: UserWarning: Do not pass an `input_shape`/`input_dim` argument to a layer. When using Sequential models, prefer using an `Input(shape)` object as the first layer in the model instead.\n",
      "  super().__init__(activity_regularizer=activity_regularizer, **kwargs)\n"
     ]
    },
    {
     "name": "stdout",
     "output_type": "stream",
     "text": [
      "[CV] END batch_size=128, epochs=30, model__dropout_rate=0.6, model__neurons_1=512, model__neurons_2=64, model__optimizer=rmsprop; total time= 1.4min\n"
     ]
    },
    {
     "name": "stderr",
     "output_type": "stream",
     "text": [
      "C:\\Users\\aless\\anaconda3\\Lib\\site-packages\\keras\\src\\layers\\core\\dense.py:87: UserWarning: Do not pass an `input_shape`/`input_dim` argument to a layer. When using Sequential models, prefer using an `Input(shape)` object as the first layer in the model instead.\n",
      "  super().__init__(activity_regularizer=activity_regularizer, **kwargs)\n"
     ]
    },
    {
     "name": "stdout",
     "output_type": "stream",
     "text": [
      "[CV] END batch_size=128, epochs=30, model__dropout_rate=0.6, model__neurons_1=512, model__neurons_2=64, model__optimizer=rmsprop; total time= 1.4min\n"
     ]
    },
    {
     "name": "stderr",
     "output_type": "stream",
     "text": [
      "C:\\Users\\aless\\anaconda3\\Lib\\site-packages\\keras\\src\\layers\\core\\dense.py:87: UserWarning: Do not pass an `input_shape`/`input_dim` argument to a layer. When using Sequential models, prefer using an `Input(shape)` object as the first layer in the model instead.\n",
      "  super().__init__(activity_regularizer=activity_regularizer, **kwargs)\n"
     ]
    },
    {
     "name": "stdout",
     "output_type": "stream",
     "text": [
      "[CV] END batch_size=128, epochs=30, model__dropout_rate=0.6, model__neurons_1=512, model__neurons_2=64, model__optimizer=rmsprop; total time= 1.4min\n"
     ]
    },
    {
     "name": "stderr",
     "output_type": "stream",
     "text": [
      "C:\\Users\\aless\\anaconda3\\Lib\\site-packages\\keras\\src\\layers\\core\\dense.py:87: UserWarning: Do not pass an `input_shape`/`input_dim` argument to a layer. When using Sequential models, prefer using an `Input(shape)` object as the first layer in the model instead.\n",
      "  super().__init__(activity_regularizer=activity_regularizer, **kwargs)\n"
     ]
    },
    {
     "name": "stdout",
     "output_type": "stream",
     "text": [
      "[CV] END batch_size=64, epochs=50, model__dropout_rate=0.2, model__neurons_1=128, model__neurons_2=256, model__optimizer=sgd; total time= 3.1min\n"
     ]
    },
    {
     "name": "stderr",
     "output_type": "stream",
     "text": [
      "C:\\Users\\aless\\anaconda3\\Lib\\site-packages\\keras\\src\\layers\\core\\dense.py:87: UserWarning: Do not pass an `input_shape`/`input_dim` argument to a layer. When using Sequential models, prefer using an `Input(shape)` object as the first layer in the model instead.\n",
      "  super().__init__(activity_regularizer=activity_regularizer, **kwargs)\n"
     ]
    },
    {
     "name": "stdout",
     "output_type": "stream",
     "text": [
      "[CV] END batch_size=64, epochs=50, model__dropout_rate=0.2, model__neurons_1=128, model__neurons_2=256, model__optimizer=sgd; total time= 3.2min\n"
     ]
    },
    {
     "name": "stderr",
     "output_type": "stream",
     "text": [
      "C:\\Users\\aless\\anaconda3\\Lib\\site-packages\\keras\\src\\layers\\core\\dense.py:87: UserWarning: Do not pass an `input_shape`/`input_dim` argument to a layer. When using Sequential models, prefer using an `Input(shape)` object as the first layer in the model instead.\n",
      "  super().__init__(activity_regularizer=activity_regularizer, **kwargs)\n"
     ]
    },
    {
     "name": "stdout",
     "output_type": "stream",
     "text": [
      "[CV] END batch_size=64, epochs=50, model__dropout_rate=0.2, model__neurons_1=128, model__neurons_2=256, model__optimizer=sgd; total time= 3.2min\n"
     ]
    },
    {
     "name": "stderr",
     "output_type": "stream",
     "text": [
      "C:\\Users\\aless\\anaconda3\\Lib\\site-packages\\keras\\src\\layers\\core\\dense.py:87: UserWarning: Do not pass an `input_shape`/`input_dim` argument to a layer. When using Sequential models, prefer using an `Input(shape)` object as the first layer in the model instead.\n",
      "  super().__init__(activity_regularizer=activity_regularizer, **kwargs)\n"
     ]
    },
    {
     "name": "stdout",
     "output_type": "stream",
     "text": [
      "[CV] END batch_size=64, epochs=50, model__dropout_rate=0.2, model__neurons_1=128, model__neurons_2=256, model__optimizer=sgd; total time= 3.1min\n"
     ]
    },
    {
     "name": "stderr",
     "output_type": "stream",
     "text": [
      "C:\\Users\\aless\\anaconda3\\Lib\\site-packages\\keras\\src\\layers\\core\\dense.py:87: UserWarning: Do not pass an `input_shape`/`input_dim` argument to a layer. When using Sequential models, prefer using an `Input(shape)` object as the first layer in the model instead.\n",
      "  super().__init__(activity_regularizer=activity_regularizer, **kwargs)\n"
     ]
    },
    {
     "name": "stdout",
     "output_type": "stream",
     "text": [
      "[CV] END batch_size=64, epochs=50, model__dropout_rate=0.2, model__neurons_1=128, model__neurons_2=256, model__optimizer=sgd; total time= 3.2min\n"
     ]
    },
    {
     "name": "stderr",
     "output_type": "stream",
     "text": [
      "C:\\Users\\aless\\anaconda3\\Lib\\site-packages\\keras\\src\\layers\\core\\dense.py:87: UserWarning: Do not pass an `input_shape`/`input_dim` argument to a layer. When using Sequential models, prefer using an `Input(shape)` object as the first layer in the model instead.\n",
      "  super().__init__(activity_regularizer=activity_regularizer, **kwargs)\n"
     ]
    },
    {
     "name": "stdout",
     "output_type": "stream",
     "text": [
      "[CV] END batch_size=16, epochs=30, model__dropout_rate=0.3, model__neurons_1=128, model__neurons_2=64, model__optimizer=adam; total time= 5.5min\n"
     ]
    },
    {
     "name": "stderr",
     "output_type": "stream",
     "text": [
      "C:\\Users\\aless\\anaconda3\\Lib\\site-packages\\keras\\src\\layers\\core\\dense.py:87: UserWarning: Do not pass an `input_shape`/`input_dim` argument to a layer. When using Sequential models, prefer using an `Input(shape)` object as the first layer in the model instead.\n",
      "  super().__init__(activity_regularizer=activity_regularizer, **kwargs)\n"
     ]
    },
    {
     "name": "stdout",
     "output_type": "stream",
     "text": [
      "[CV] END batch_size=16, epochs=30, model__dropout_rate=0.3, model__neurons_1=128, model__neurons_2=64, model__optimizer=adam; total time= 5.6min\n"
     ]
    },
    {
     "name": "stderr",
     "output_type": "stream",
     "text": [
      "C:\\Users\\aless\\anaconda3\\Lib\\site-packages\\keras\\src\\layers\\core\\dense.py:87: UserWarning: Do not pass an `input_shape`/`input_dim` argument to a layer. When using Sequential models, prefer using an `Input(shape)` object as the first layer in the model instead.\n",
      "  super().__init__(activity_regularizer=activity_regularizer, **kwargs)\n"
     ]
    },
    {
     "name": "stdout",
     "output_type": "stream",
     "text": [
      "[CV] END batch_size=16, epochs=30, model__dropout_rate=0.3, model__neurons_1=128, model__neurons_2=64, model__optimizer=adam; total time= 5.8min\n"
     ]
    },
    {
     "name": "stderr",
     "output_type": "stream",
     "text": [
      "C:\\Users\\aless\\anaconda3\\Lib\\site-packages\\keras\\src\\layers\\core\\dense.py:87: UserWarning: Do not pass an `input_shape`/`input_dim` argument to a layer. When using Sequential models, prefer using an `Input(shape)` object as the first layer in the model instead.\n",
      "  super().__init__(activity_regularizer=activity_regularizer, **kwargs)\n"
     ]
    },
    {
     "name": "stdout",
     "output_type": "stream",
     "text": [
      "[CV] END batch_size=16, epochs=30, model__dropout_rate=0.3, model__neurons_1=128, model__neurons_2=64, model__optimizer=adam; total time= 5.6min\n"
     ]
    },
    {
     "name": "stderr",
     "output_type": "stream",
     "text": [
      "C:\\Users\\aless\\anaconda3\\Lib\\site-packages\\keras\\src\\layers\\core\\dense.py:87: UserWarning: Do not pass an `input_shape`/`input_dim` argument to a layer. When using Sequential models, prefer using an `Input(shape)` object as the first layer in the model instead.\n",
      "  super().__init__(activity_regularizer=activity_regularizer, **kwargs)\n"
     ]
    },
    {
     "name": "stdout",
     "output_type": "stream",
     "text": [
      "[CV] END batch_size=16, epochs=30, model__dropout_rate=0.3, model__neurons_1=128, model__neurons_2=64, model__optimizer=adam; total time= 5.6min\n"
     ]
    },
    {
     "name": "stderr",
     "output_type": "stream",
     "text": [
      "C:\\Users\\aless\\anaconda3\\Lib\\site-packages\\keras\\src\\layers\\core\\dense.py:87: UserWarning: Do not pass an `input_shape`/`input_dim` argument to a layer. When using Sequential models, prefer using an `Input(shape)` object as the first layer in the model instead.\n",
      "  super().__init__(activity_regularizer=activity_regularizer, **kwargs)\n"
     ]
    },
    {
     "name": "stdout",
     "output_type": "stream",
     "text": [
      "[CV] END batch_size=16, epochs=20, model__dropout_rate=0.2, model__neurons_1=32, model__neurons_2=128, model__optimizer=nadam; total time= 3.7min\n"
     ]
    },
    {
     "name": "stderr",
     "output_type": "stream",
     "text": [
      "C:\\Users\\aless\\anaconda3\\Lib\\site-packages\\keras\\src\\layers\\core\\dense.py:87: UserWarning: Do not pass an `input_shape`/`input_dim` argument to a layer. When using Sequential models, prefer using an `Input(shape)` object as the first layer in the model instead.\n",
      "  super().__init__(activity_regularizer=activity_regularizer, **kwargs)\n"
     ]
    },
    {
     "name": "stdout",
     "output_type": "stream",
     "text": [
      "[CV] END batch_size=16, epochs=20, model__dropout_rate=0.2, model__neurons_1=32, model__neurons_2=128, model__optimizer=nadam; total time= 3.7min\n"
     ]
    },
    {
     "name": "stderr",
     "output_type": "stream",
     "text": [
      "C:\\Users\\aless\\anaconda3\\Lib\\site-packages\\keras\\src\\layers\\core\\dense.py:87: UserWarning: Do not pass an `input_shape`/`input_dim` argument to a layer. When using Sequential models, prefer using an `Input(shape)` object as the first layer in the model instead.\n",
      "  super().__init__(activity_regularizer=activity_regularizer, **kwargs)\n"
     ]
    },
    {
     "name": "stdout",
     "output_type": "stream",
     "text": [
      "[CV] END batch_size=16, epochs=20, model__dropout_rate=0.2, model__neurons_1=32, model__neurons_2=128, model__optimizer=nadam; total time= 3.8min\n"
     ]
    },
    {
     "name": "stderr",
     "output_type": "stream",
     "text": [
      "C:\\Users\\aless\\anaconda3\\Lib\\site-packages\\keras\\src\\layers\\core\\dense.py:87: UserWarning: Do not pass an `input_shape`/`input_dim` argument to a layer. When using Sequential models, prefer using an `Input(shape)` object as the first layer in the model instead.\n",
      "  super().__init__(activity_regularizer=activity_regularizer, **kwargs)\n"
     ]
    },
    {
     "name": "stdout",
     "output_type": "stream",
     "text": [
      "[CV] END batch_size=16, epochs=20, model__dropout_rate=0.2, model__neurons_1=32, model__neurons_2=128, model__optimizer=nadam; total time= 3.5min\n"
     ]
    },
    {
     "name": "stderr",
     "output_type": "stream",
     "text": [
      "C:\\Users\\aless\\anaconda3\\Lib\\site-packages\\keras\\src\\layers\\core\\dense.py:87: UserWarning: Do not pass an `input_shape`/`input_dim` argument to a layer. When using Sequential models, prefer using an `Input(shape)` object as the first layer in the model instead.\n",
      "  super().__init__(activity_regularizer=activity_regularizer, **kwargs)\n"
     ]
    },
    {
     "name": "stdout",
     "output_type": "stream",
     "text": [
      "[CV] END batch_size=16, epochs=20, model__dropout_rate=0.2, model__neurons_1=32, model__neurons_2=128, model__optimizer=nadam; total time= 3.6min\n"
     ]
    },
    {
     "name": "stderr",
     "output_type": "stream",
     "text": [
      "C:\\Users\\aless\\anaconda3\\Lib\\site-packages\\keras\\src\\layers\\core\\dense.py:87: UserWarning: Do not pass an `input_shape`/`input_dim` argument to a layer. When using Sequential models, prefer using an `Input(shape)` object as the first layer in the model instead.\n",
      "  super().__init__(activity_regularizer=activity_regularizer, **kwargs)\n"
     ]
    },
    {
     "name": "stdout",
     "output_type": "stream",
     "text": [
      "[CV] END batch_size=128, epochs=30, model__dropout_rate=0.2, model__neurons_1=256, model__neurons_2=32, model__optimizer=adagrad; total time= 1.0min\n"
     ]
    },
    {
     "name": "stderr",
     "output_type": "stream",
     "text": [
      "C:\\Users\\aless\\anaconda3\\Lib\\site-packages\\keras\\src\\layers\\core\\dense.py:87: UserWarning: Do not pass an `input_shape`/`input_dim` argument to a layer. When using Sequential models, prefer using an `Input(shape)` object as the first layer in the model instead.\n",
      "  super().__init__(activity_regularizer=activity_regularizer, **kwargs)\n"
     ]
    },
    {
     "name": "stdout",
     "output_type": "stream",
     "text": [
      "[CV] END batch_size=128, epochs=30, model__dropout_rate=0.2, model__neurons_1=256, model__neurons_2=32, model__optimizer=adagrad; total time= 1.0min\n"
     ]
    },
    {
     "name": "stderr",
     "output_type": "stream",
     "text": [
      "C:\\Users\\aless\\anaconda3\\Lib\\site-packages\\keras\\src\\layers\\core\\dense.py:87: UserWarning: Do not pass an `input_shape`/`input_dim` argument to a layer. When using Sequential models, prefer using an `Input(shape)` object as the first layer in the model instead.\n",
      "  super().__init__(activity_regularizer=activity_regularizer, **kwargs)\n"
     ]
    },
    {
     "name": "stdout",
     "output_type": "stream",
     "text": [
      "[CV] END batch_size=128, epochs=30, model__dropout_rate=0.2, model__neurons_1=256, model__neurons_2=32, model__optimizer=adagrad; total time= 1.1min\n"
     ]
    },
    {
     "name": "stderr",
     "output_type": "stream",
     "text": [
      "C:\\Users\\aless\\anaconda3\\Lib\\site-packages\\keras\\src\\layers\\core\\dense.py:87: UserWarning: Do not pass an `input_shape`/`input_dim` argument to a layer. When using Sequential models, prefer using an `Input(shape)` object as the first layer in the model instead.\n",
      "  super().__init__(activity_regularizer=activity_regularizer, **kwargs)\n"
     ]
    },
    {
     "name": "stdout",
     "output_type": "stream",
     "text": [
      "[CV] END batch_size=128, epochs=30, model__dropout_rate=0.2, model__neurons_1=256, model__neurons_2=32, model__optimizer=adagrad; total time= 1.1min\n"
     ]
    },
    {
     "name": "stderr",
     "output_type": "stream",
     "text": [
      "C:\\Users\\aless\\anaconda3\\Lib\\site-packages\\keras\\src\\layers\\core\\dense.py:87: UserWarning: Do not pass an `input_shape`/`input_dim` argument to a layer. When using Sequential models, prefer using an `Input(shape)` object as the first layer in the model instead.\n",
      "  super().__init__(activity_regularizer=activity_regularizer, **kwargs)\n"
     ]
    },
    {
     "name": "stdout",
     "output_type": "stream",
     "text": [
      "[CV] END batch_size=128, epochs=30, model__dropout_rate=0.2, model__neurons_1=256, model__neurons_2=32, model__optimizer=adagrad; total time= 1.1min\n"
     ]
    },
    {
     "name": "stderr",
     "output_type": "stream",
     "text": [
      "C:\\Users\\aless\\anaconda3\\Lib\\site-packages\\keras\\src\\layers\\core\\dense.py:87: UserWarning: Do not pass an `input_shape`/`input_dim` argument to a layer. When using Sequential models, prefer using an `Input(shape)` object as the first layer in the model instead.\n",
      "  super().__init__(activity_regularizer=activity_regularizer, **kwargs)\n"
     ]
    },
    {
     "name": "stdout",
     "output_type": "stream",
     "text": [
      "[CV] END batch_size=64, epochs=20, model__dropout_rate=0.3, model__neurons_1=128, model__neurons_2=256, model__optimizer=nadam; total time= 1.5min\n"
     ]
    },
    {
     "name": "stderr",
     "output_type": "stream",
     "text": [
      "C:\\Users\\aless\\anaconda3\\Lib\\site-packages\\keras\\src\\layers\\core\\dense.py:87: UserWarning: Do not pass an `input_shape`/`input_dim` argument to a layer. When using Sequential models, prefer using an `Input(shape)` object as the first layer in the model instead.\n",
      "  super().__init__(activity_regularizer=activity_regularizer, **kwargs)\n"
     ]
    },
    {
     "name": "stdout",
     "output_type": "stream",
     "text": [
      "[CV] END batch_size=64, epochs=20, model__dropout_rate=0.3, model__neurons_1=128, model__neurons_2=256, model__optimizer=nadam; total time= 1.4min\n"
     ]
    },
    {
     "name": "stderr",
     "output_type": "stream",
     "text": [
      "C:\\Users\\aless\\anaconda3\\Lib\\site-packages\\keras\\src\\layers\\core\\dense.py:87: UserWarning: Do not pass an `input_shape`/`input_dim` argument to a layer. When using Sequential models, prefer using an `Input(shape)` object as the first layer in the model instead.\n",
      "  super().__init__(activity_regularizer=activity_regularizer, **kwargs)\n"
     ]
    },
    {
     "name": "stdout",
     "output_type": "stream",
     "text": [
      "[CV] END batch_size=64, epochs=20, model__dropout_rate=0.3, model__neurons_1=128, model__neurons_2=256, model__optimizer=nadam; total time= 1.4min\n"
     ]
    },
    {
     "name": "stderr",
     "output_type": "stream",
     "text": [
      "C:\\Users\\aless\\anaconda3\\Lib\\site-packages\\keras\\src\\layers\\core\\dense.py:87: UserWarning: Do not pass an `input_shape`/`input_dim` argument to a layer. When using Sequential models, prefer using an `Input(shape)` object as the first layer in the model instead.\n",
      "  super().__init__(activity_regularizer=activity_regularizer, **kwargs)\n"
     ]
    },
    {
     "name": "stdout",
     "output_type": "stream",
     "text": [
      "[CV] END batch_size=64, epochs=20, model__dropout_rate=0.3, model__neurons_1=128, model__neurons_2=256, model__optimizer=nadam; total time= 1.4min\n"
     ]
    },
    {
     "name": "stderr",
     "output_type": "stream",
     "text": [
      "C:\\Users\\aless\\anaconda3\\Lib\\site-packages\\keras\\src\\layers\\core\\dense.py:87: UserWarning: Do not pass an `input_shape`/`input_dim` argument to a layer. When using Sequential models, prefer using an `Input(shape)` object as the first layer in the model instead.\n",
      "  super().__init__(activity_regularizer=activity_regularizer, **kwargs)\n"
     ]
    },
    {
     "name": "stdout",
     "output_type": "stream",
     "text": [
      "[CV] END batch_size=64, epochs=20, model__dropout_rate=0.3, model__neurons_1=128, model__neurons_2=256, model__optimizer=nadam; total time= 1.4min\n"
     ]
    },
    {
     "name": "stderr",
     "output_type": "stream",
     "text": [
      "C:\\Users\\aless\\anaconda3\\Lib\\site-packages\\keras\\src\\layers\\core\\dense.py:87: UserWarning: Do not pass an `input_shape`/`input_dim` argument to a layer. When using Sequential models, prefer using an `Input(shape)` object as the first layer in the model instead.\n",
      "  super().__init__(activity_regularizer=activity_regularizer, **kwargs)\n"
     ]
    },
    {
     "name": "stdout",
     "output_type": "stream",
     "text": [
      "[CV] END batch_size=16, epochs=50, model__dropout_rate=0.3, model__neurons_1=128, model__neurons_2=32, model__optimizer=adagrad; total time= 9.1min\n"
     ]
    },
    {
     "name": "stderr",
     "output_type": "stream",
     "text": [
      "C:\\Users\\aless\\anaconda3\\Lib\\site-packages\\keras\\src\\layers\\core\\dense.py:87: UserWarning: Do not pass an `input_shape`/`input_dim` argument to a layer. When using Sequential models, prefer using an `Input(shape)` object as the first layer in the model instead.\n",
      "  super().__init__(activity_regularizer=activity_regularizer, **kwargs)\n"
     ]
    },
    {
     "name": "stdout",
     "output_type": "stream",
     "text": [
      "[CV] END batch_size=16, epochs=50, model__dropout_rate=0.3, model__neurons_1=128, model__neurons_2=32, model__optimizer=adagrad; total time= 9.3min\n"
     ]
    },
    {
     "name": "stderr",
     "output_type": "stream",
     "text": [
      "C:\\Users\\aless\\anaconda3\\Lib\\site-packages\\keras\\src\\layers\\core\\dense.py:87: UserWarning: Do not pass an `input_shape`/`input_dim` argument to a layer. When using Sequential models, prefer using an `Input(shape)` object as the first layer in the model instead.\n",
      "  super().__init__(activity_regularizer=activity_regularizer, **kwargs)\n"
     ]
    },
    {
     "name": "stdout",
     "output_type": "stream",
     "text": [
      "[CV] END batch_size=16, epochs=50, model__dropout_rate=0.3, model__neurons_1=128, model__neurons_2=32, model__optimizer=adagrad; total time= 9.2min\n"
     ]
    },
    {
     "name": "stderr",
     "output_type": "stream",
     "text": [
      "C:\\Users\\aless\\anaconda3\\Lib\\site-packages\\keras\\src\\layers\\core\\dense.py:87: UserWarning: Do not pass an `input_shape`/`input_dim` argument to a layer. When using Sequential models, prefer using an `Input(shape)` object as the first layer in the model instead.\n",
      "  super().__init__(activity_regularizer=activity_regularizer, **kwargs)\n"
     ]
    },
    {
     "name": "stdout",
     "output_type": "stream",
     "text": [
      "[CV] END batch_size=16, epochs=50, model__dropout_rate=0.3, model__neurons_1=128, model__neurons_2=32, model__optimizer=adagrad; total time= 9.3min\n"
     ]
    },
    {
     "name": "stderr",
     "output_type": "stream",
     "text": [
      "C:\\Users\\aless\\anaconda3\\Lib\\site-packages\\keras\\src\\layers\\core\\dense.py:87: UserWarning: Do not pass an `input_shape`/`input_dim` argument to a layer. When using Sequential models, prefer using an `Input(shape)` object as the first layer in the model instead.\n",
      "  super().__init__(activity_regularizer=activity_regularizer, **kwargs)\n"
     ]
    },
    {
     "name": "stdout",
     "output_type": "stream",
     "text": [
      "[CV] END batch_size=16, epochs=50, model__dropout_rate=0.3, model__neurons_1=128, model__neurons_2=32, model__optimizer=adagrad; total time= 9.2min\n"
     ]
    },
    {
     "name": "stderr",
     "output_type": "stream",
     "text": [
      "C:\\Users\\aless\\anaconda3\\Lib\\site-packages\\keras\\src\\layers\\core\\dense.py:87: UserWarning: Do not pass an `input_shape`/`input_dim` argument to a layer. When using Sequential models, prefer using an `Input(shape)` object as the first layer in the model instead.\n",
      "  super().__init__(activity_regularizer=activity_regularizer, **kwargs)\n"
     ]
    },
    {
     "name": "stdout",
     "output_type": "stream",
     "text": [
      "Migliori iperparametri trovati: {'model__optimizer': 'nadam', 'model__neurons_2': 32, 'model__neurons_1': 64, 'model__dropout_rate': 0.2, 'epochs': 50, 'batch_size': 128}\n"
     ]
    }
   ],
   "source": [
    "# Funzione per creare il modello con parametri variabili\n",
    "def create_nn_model(optimizer='adam', neurons_1=64, neurons_2=32, dropout_rate=0.5):\n",
    "    model = Sequential([\n",
    "        Dense(neurons_1, activation='relu', input_dim=X_train_fnn.shape[1]),\n",
    "        Dropout(dropout_rate),\n",
    "        Dense(neurons_2, activation='relu'),\n",
    "        Dropout(dropout_rate),\n",
    "        Dense(1, activation='sigmoid')\n",
    "    ])\n",
    "    model.compile(optimizer=optimizer, loss='binary_crossentropy', metrics=['accuracy'])\n",
    "    return model\n",
    "\n",
    "# Incapsula il modello in KerasClassifier\n",
    "keras_model = KerasClassifier(model=create_nn_model, verbose=0)\n",
    "\n",
    "# Definizione della griglia di iperparametri\n",
    "param_dist = {\n",
    "    'model__optimizer': ['adam', 'rmsprop', 'sgd', 'adagrad', 'nadam'],\n",
    "    'model__neurons_1': [32, 64, 128, 256, 512],\n",
    "    'model__neurons_2': [16, 32, 64, 128, 256],\n",
    "    'model__dropout_rate': [0.2, 0.3, 0.4, 0.5, 0.6, 0.7],\n",
    "    'batch_size': [16, 32, 64, 128],\n",
    "    'epochs': [10, 20, 30, 50]\n",
    "}\n",
    "\n",
    "# Randomized Search per trovare i migliori iperparametri\n",
    "random_search = RandomizedSearchCV(\n",
    "    estimator=keras_model,\n",
    "    param_distributions=param_dist,\n",
    "    n_iter=20,  # Numero di iterazioni per la ricerca\n",
    "    scoring='accuracy',\n",
    "    cv=3,\n",
    "    verbose=2,\n",
    "    random_state=42\n",
    ")\n",
    "\n",
    "# Esegue la ricerca dei migliori parametri\n",
    "random_search.fit(X_train_fnn, y_train)\n",
    "\n",
    "# Migliori parametri trovati\n",
    "print(\"Migliori iperparametri trovati:\", random_search.best_params_)\n"
   ]
  },
  {
   "cell_type": "code",
   "execution_count": 187,
   "id": "b566cd71-f3f4-45d0-8c44-78d92b036d80",
   "metadata": {
    "scrolled": true
   },
   "outputs": [
    {
     "name": "stdout",
     "output_type": "stream",
     "text": [
      "Epoch 1/50\n",
      "\u001b[1m591/591\u001b[0m \u001b[32m━━━━━━━━━━━━━━━━━━━━\u001b[0m\u001b[37m\u001b[0m \u001b[1m16s\u001b[0m 7ms/step - accuracy: 0.9309 - loss: 0.2042 - val_accuracy: 0.9771 - val_loss: 0.0626\n",
      "Epoch 2/50\n",
      "\u001b[1m591/591\u001b[0m \u001b[32m━━━━━━━━━━━━━━━━━━━━\u001b[0m\u001b[37m\u001b[0m \u001b[1m4s\u001b[0m 6ms/step - accuracy: 0.9761 - loss: 0.0675 - val_accuracy: 0.9830 - val_loss: 0.0475\n",
      "Epoch 3/50\n",
      "\u001b[1m591/591\u001b[0m \u001b[32m━━━━━━━━━━━━━━━━━━━━\u001b[0m\u001b[37m\u001b[0m \u001b[1m4s\u001b[0m 6ms/step - accuracy: 0.9800 - loss: 0.0516 - val_accuracy: 0.9867 - val_loss: 0.0392\n",
      "Epoch 4/50\n",
      "\u001b[1m591/591\u001b[0m \u001b[32m━━━━━━━━━━━━━━━━━━━━\u001b[0m\u001b[37m\u001b[0m \u001b[1m3s\u001b[0m 6ms/step - accuracy: 0.9839 - loss: 0.0418 - val_accuracy: 0.9872 - val_loss: 0.0345\n",
      "Epoch 5/50\n",
      "\u001b[1m591/591\u001b[0m \u001b[32m━━━━━━━━━━━━━━━━━━━━\u001b[0m\u001b[37m\u001b[0m \u001b[1m3s\u001b[0m 6ms/step - accuracy: 0.9864 - loss: 0.0366 - val_accuracy: 0.9901 - val_loss: 0.0302\n",
      "Epoch 6/50\n",
      "\u001b[1m591/591\u001b[0m \u001b[32m━━━━━━━━━━━━━━━━━━━━\u001b[0m\u001b[37m\u001b[0m \u001b[1m4s\u001b[0m 7ms/step - accuracy: 0.9890 - loss: 0.0320 - val_accuracy: 0.9914 - val_loss: 0.0265\n",
      "Epoch 7/50\n",
      "\u001b[1m591/591\u001b[0m \u001b[32m━━━━━━━━━━━━━━━━━━━━\u001b[0m\u001b[37m\u001b[0m \u001b[1m4s\u001b[0m 6ms/step - accuracy: 0.9901 - loss: 0.0296 - val_accuracy: 0.9925 - val_loss: 0.0242\n",
      "Epoch 8/50\n",
      "\u001b[1m591/591\u001b[0m \u001b[32m━━━━━━━━━━━━━━━━━━━━\u001b[0m\u001b[37m\u001b[0m \u001b[1m4s\u001b[0m 6ms/step - accuracy: 0.9918 - loss: 0.0253 - val_accuracy: 0.9933 - val_loss: 0.0219\n",
      "Epoch 9/50\n",
      "\u001b[1m591/591\u001b[0m \u001b[32m━━━━━━━━━━━━━━━━━━━━\u001b[0m\u001b[37m\u001b[0m \u001b[1m4s\u001b[0m 6ms/step - accuracy: 0.9923 - loss: 0.0233 - val_accuracy: 0.9931 - val_loss: 0.0210\n",
      "Epoch 10/50\n",
      "\u001b[1m591/591\u001b[0m \u001b[32m━━━━━━━━━━━━━━━━━━━━\u001b[0m\u001b[37m\u001b[0m \u001b[1m3s\u001b[0m 6ms/step - accuracy: 0.9931 - loss: 0.0203 - val_accuracy: 0.9936 - val_loss: 0.0191\n",
      "Epoch 11/50\n",
      "\u001b[1m591/591\u001b[0m \u001b[32m━━━━━━━━━━━━━━━━━━━━\u001b[0m\u001b[37m\u001b[0m \u001b[1m3s\u001b[0m 6ms/step - accuracy: 0.9937 - loss: 0.0191 - val_accuracy: 0.9943 - val_loss: 0.0183\n",
      "Epoch 12/50\n",
      "\u001b[1m591/591\u001b[0m \u001b[32m━━━━━━━━━━━━━━━━━━━━\u001b[0m\u001b[37m\u001b[0m \u001b[1m4s\u001b[0m 6ms/step - accuracy: 0.9937 - loss: 0.0188 - val_accuracy: 0.9938 - val_loss: 0.0181\n",
      "Epoch 13/50\n",
      "\u001b[1m591/591\u001b[0m \u001b[32m━━━━━━━━━━━━━━━━━━━━\u001b[0m\u001b[37m\u001b[0m \u001b[1m4s\u001b[0m 6ms/step - accuracy: 0.9945 - loss: 0.0171 - val_accuracy: 0.9939 - val_loss: 0.0175\n",
      "Epoch 14/50\n",
      "\u001b[1m591/591\u001b[0m \u001b[32m━━━━━━━━━━━━━━━━━━━━\u001b[0m\u001b[37m\u001b[0m \u001b[1m3s\u001b[0m 6ms/step - accuracy: 0.9944 - loss: 0.0163 - val_accuracy: 0.9947 - val_loss: 0.0164\n",
      "Epoch 15/50\n",
      "\u001b[1m591/591\u001b[0m \u001b[32m━━━━━━━━━━━━━━━━━━━━\u001b[0m\u001b[37m\u001b[0m \u001b[1m3s\u001b[0m 6ms/step - accuracy: 0.9939 - loss: 0.0168 - val_accuracy: 0.9946 - val_loss: 0.0165\n",
      "Epoch 16/50\n",
      "\u001b[1m591/591\u001b[0m \u001b[32m━━━━━━━━━━━━━━━━━━━━\u001b[0m\u001b[37m\u001b[0m \u001b[1m3s\u001b[0m 6ms/step - accuracy: 0.9941 - loss: 0.0165 - val_accuracy: 0.9941 - val_loss: 0.0164\n",
      "Epoch 17/50\n",
      "\u001b[1m591/591\u001b[0m \u001b[32m━━━━━━━━━━━━━━━━━━━━\u001b[0m\u001b[37m\u001b[0m \u001b[1m4s\u001b[0m 6ms/step - accuracy: 0.9945 - loss: 0.0159 - val_accuracy: 0.9942 - val_loss: 0.0168\n",
      "Epoch 18/50\n",
      "\u001b[1m591/591\u001b[0m \u001b[32m━━━━━━━━━━━━━━━━━━━━\u001b[0m\u001b[37m\u001b[0m \u001b[1m4s\u001b[0m 6ms/step - accuracy: 0.9946 - loss: 0.0166 - val_accuracy: 0.9946 - val_loss: 0.0160\n",
      "Epoch 19/50\n",
      "\u001b[1m591/591\u001b[0m \u001b[32m━━━━━━━━━━━━━━━━━━━━\u001b[0m\u001b[37m\u001b[0m \u001b[1m4s\u001b[0m 6ms/step - accuracy: 0.9952 - loss: 0.0145 - val_accuracy: 0.9946 - val_loss: 0.0159\n",
      "Epoch 20/50\n",
      "\u001b[1m591/591\u001b[0m \u001b[32m━━━━━━━━━━━━━━━━━━━━\u001b[0m\u001b[37m\u001b[0m \u001b[1m4s\u001b[0m 7ms/step - accuracy: 0.9948 - loss: 0.0156 - val_accuracy: 0.9946 - val_loss: 0.0160\n",
      "Epoch 21/50\n",
      "\u001b[1m591/591\u001b[0m \u001b[32m━━━━━━━━━━━━━━━━━━━━\u001b[0m\u001b[37m\u001b[0m \u001b[1m4s\u001b[0m 6ms/step - accuracy: 0.9950 - loss: 0.0140 - val_accuracy: 0.9946 - val_loss: 0.0152\n",
      "Epoch 22/50\n",
      "\u001b[1m591/591\u001b[0m \u001b[32m━━━━━━━━━━━━━━━━━━━━\u001b[0m\u001b[37m\u001b[0m \u001b[1m5s\u001b[0m 6ms/step - accuracy: 0.9956 - loss: 0.0127 - val_accuracy: 0.9957 - val_loss: 0.0146\n",
      "Epoch 23/50\n",
      "\u001b[1m591/591\u001b[0m \u001b[32m━━━━━━━━━━━━━━━━━━━━\u001b[0m\u001b[37m\u001b[0m \u001b[1m3s\u001b[0m 6ms/step - accuracy: 0.9953 - loss: 0.0142 - val_accuracy: 0.9953 - val_loss: 0.0158\n",
      "Epoch 24/50\n",
      "\u001b[1m591/591\u001b[0m \u001b[32m━━━━━━━━━━━━━━━━━━━━\u001b[0m\u001b[37m\u001b[0m \u001b[1m5s\u001b[0m 6ms/step - accuracy: 0.9952 - loss: 0.0129 - val_accuracy: 0.9950 - val_loss: 0.0166\n",
      "Epoch 25/50\n",
      "\u001b[1m591/591\u001b[0m \u001b[32m━━━━━━━━━━━━━━━━━━━━\u001b[0m\u001b[37m\u001b[0m \u001b[1m5s\u001b[0m 6ms/step - accuracy: 0.9957 - loss: 0.0125 - val_accuracy: 0.9956 - val_loss: 0.0151\n",
      "Epoch 26/50\n",
      "\u001b[1m591/591\u001b[0m \u001b[32m━━━━━━━━━━━━━━━━━━━━\u001b[0m\u001b[37m\u001b[0m \u001b[1m3s\u001b[0m 6ms/step - accuracy: 0.9956 - loss: 0.0132 - val_accuracy: 0.9949 - val_loss: 0.0160\n",
      "Epoch 27/50\n",
      "\u001b[1m591/591\u001b[0m \u001b[32m━━━━━━━━━━━━━━━━━━━━\u001b[0m\u001b[37m\u001b[0m \u001b[1m3s\u001b[0m 6ms/step - accuracy: 0.9956 - loss: 0.0125 - val_accuracy: 0.9948 - val_loss: 0.0151\n",
      "\u001b[1m788/788\u001b[0m \u001b[32m━━━━━━━━━━━━━━━━━━━━\u001b[0m\u001b[37m\u001b[0m \u001b[1m3s\u001b[0m 3ms/step\n"
     ]
    }
   ],
   "source": [
    "#Migliori iperparametri trovati: {'model__optimizer': 'nadam', 'model__neurons_2': 32, 'model__neurons_1': 64, 'model__dropout_rate': 0.2, 'epochs': 50, 'batch_size': 128}\n",
    "X_train_fnn, X_val_fnn, X_test_fnn = preprocess_pipeline(\"Feedforward_NN\")\n",
    "\n",
    "best_params_fnn = {\n",
    "    'optimizer': 'nadam',\n",
    "    'neurons_1': 64,\n",
    "    'neurons_2': 32,\n",
    "    'dropout_rate': 0.2,\n",
    "    'epochs': 50,\n",
    "    'batch_size': 128\n",
    "}\n",
    "\n",
    "early_stopping = EarlyStopping(\n",
    "    monitor='val_loss',   # Metric da monitorare (puoi cambiare con 'val_accuracy' se preferisci)\n",
    "    patience=5,           # Numero di epoche senza miglioramento prima di interrompere\n",
    "    restore_best_weights=True  # Ripristina i pesi del modello con le migliori performance\n",
    ")\n",
    "\n",
    "\n",
    "nn_model = Sequential([\n",
    "    tf.keras.Input(shape=(X_train_fnn.shape[1],)), \n",
    "    Dense(best_params_fnn['neurons_1'], activation='relu'),\n",
    "    Dropout(best_params_fnn['dropout_rate']),\n",
    "    Dense(best_params_fnn['neurons_2'], activation='relu'),\n",
    "    Dropout(best_params_fnn['dropout_rate']),\n",
    "    Dense(1, activation='sigmoid')\n",
    "])\n",
    "nn_model.compile(optimizer=best_params_fnn['optimizer'], loss='binary_crossentropy', metrics=['accuracy'])\n",
    "\n",
    "# Addestramento del modello\n",
    "history = nn_model.fit(\n",
    "    X_train_fnn, y_train,\n",
    "    validation_data=(X_val_fnn, y_val),\n",
    "    epochs=best_params_fnn['epochs'],\n",
    "    batch_size=best_params_fnn['batch_size'],\n",
    "    callbacks=[early_stopping],\n",
    "    verbose=1\n",
    ")\n",
    "\n",
    "# Predizione sul validation set\n",
    "y_pred_nn = nn_model.predict(X_val_fnn)\n",
    "y_pred_nn = (y_pred_nn > 0.5).astype(int).flatten()\n",
    "\n",
    "# Calcolo delle metriche di valutazione\n",
    "metrics_nn = metrics_score(y_val, y_pred_nn)\n",
    "\n",
    "# Memorizzazione dei risultati\n",
    "results_dictionary[\"Neural Network\"] = metrics_nn\n"
   ]
  },
  {
   "cell_type": "code",
   "execution_count": 189,
   "id": "2b28ab12-e52f-48c0-a05e-c6fd88b968ac",
   "metadata": {},
   "outputs": [
    {
     "data": {
      "image/png": "[encoded data removed]",
      "text/plain": [
       "<Figure size 1800x500 with 4 Axes>"
      ]
     },
     "metadata": {},
     "output_type": "display_data"
    },
    {
     "name": "stdout",
     "output_type": "stream",
     "text": [
      "Feedforward Neural Network\n",
      "+-----------+----------+\n",
      "|  Metric   |  Value   |\n",
      "+===========+==========+\n",
      "| Accuracy  | 0.995674 |\n",
      "+-----------+----------+\n",
      "| Precision | 0.995675 |\n",
      "+-----------+----------+\n",
      "|  Recall   | 0.995674 |\n",
      "+-----------+----------+\n",
      "| F1-Score  | 0.995673 |\n",
      "+-----------+----------+\n"
     ]
    }
   ],
   "source": [
    "# Creazione della figura con 3 sottoplot in una riga\n",
    "fig, axes = plt.subplots(1, 3, figsize=(18, 5))\n",
    "\n",
    "# Grafico della loss\n",
    "axes[0].plot(history.history['loss'], label='Train Loss')\n",
    "axes[0].plot(history.history['val_loss'], label='Validation Loss')\n",
    "axes[0].set_xlabel('Epochs')\n",
    "axes[0].set_ylabel('Loss')\n",
    "axes[0].set_title('Training & Validation Loss')\n",
    "axes[0].legend()\n",
    "\n",
    "# Grafico dell'accuracy\n",
    "axes[1].plot(history.history['accuracy'], label='Train Accuracy')\n",
    "axes[1].plot(history.history['val_accuracy'], label='Validation Accuracy')\n",
    "axes[1].set_xlabel('Epochs')\n",
    "axes[1].set_ylabel('Accuracy')\n",
    "axes[1].set_title('Training & Validation Accuracy')\n",
    "axes[1].legend()\n",
    "\n",
    "# Matrice di confusione\n",
    "sns.heatmap(confusion_matrix(y_val, y_pred_nn), annot=True, fmt=\"d\", cmap=\"Reds\", \n",
    "            xticklabels=[\"Normal\", \"Attack\"], yticklabels=[\"Normal\", \"Attack\"], ax=axes[2])\n",
    "axes[2].set_xlabel(\"Predicted\")\n",
    "axes[2].set_ylabel(\"Actual\")\n",
    "axes[2].set_title(\"Confusion Matrix - FNN\")\n",
    "\n",
    "# Mostra tutti i grafici\n",
    "plt.tight_layout()\n",
    "plt.show()\n",
    "\n",
    "          \n",
    "# Tabella delle metriche\n",
    "table_nn = [[\"Accuracy\", metrics_nn[\"Accuracy\"]],\n",
    "         [\"Precision\", metrics_nn[\"Precision\"]],\n",
    "         [\"Recall\", metrics_nn[\"Recall\"]],\n",
    "         [\"F1-Score\", metrics_nn[\"F1-Score\"]]]\n",
    "\n",
    "print(\"Feedforward Neural Network\")\n",
    "print(tabulate(table_nn, headers=[\"Metric\", \"Value\"], tablefmt=\"grid\", colalign=(\"center\", \"center\")))\n",
    "\n",
    "\n"
   ]
  },
  {
   "cell_type": "markdown",
   "id": "a2dcf66c-c6dc-443e-95a6-6ead8b0439cb",
   "metadata": {},
   "source": [
    "# K-Nearest Neighbors(KNN)"
   ]
  },
  {
   "cell_type": "code",
   "execution_count": 43,
   "id": "f3924157-d75c-4582-994a-bf15ea9c29e9",
   "metadata": {},
   "outputs": [
    {
     "name": "stdout",
     "output_type": "stream",
     "text": [
      "Fitting 5 folds for each of 20 candidates, totalling 100 fits\n",
      "Migliori parametri trovati: {'weights': 'distance', 'n_neighbors': 4, 'metric': 'manhattan'}\n"
     ]
    }
   ],
   "source": [
    "X_train_knn, X_val_knn, X_test_knn = preprocess_pipeline(\"KNN\")\n",
    "\n",
    "# Definizione del modello KNN\n",
    "knn = KNeighborsClassifier()\n",
    "\n",
    "# Definizione della distribuzione degli iperparametri\n",
    "param_distributions = {\n",
    "    'n_neighbors': np.arange(1, 21),  # Numero di vicini (1-20)\n",
    "    'weights': ['uniform', 'distance'],  # Peso uniforme o basato sulla distanza\n",
    "    'metric': ['euclidean', 'manhattan', 'minkowski']  # Metriche di distanza\n",
    "}\n",
    "\n",
    "# RandomizedSearchCV per trovare i migliori iperparametri\n",
    "random_search = RandomizedSearchCV(\n",
    "    estimator=knn,\n",
    "    param_distributions=param_distributions,\n",
    "    n_iter=20,  # Numero di combinazioni casuali da testare\n",
    "    scoring='accuracy',  # Metrica principale\n",
    "    cv=5,  # 5-fold cross-validation sul training set\n",
    "    verbose=1,\n",
    "    n_jobs=1,  # Se ci sono problemi con multiprocessing, prova con 1\n",
    "    random_state=42  # Per riproducibilità\n",
    ")\n",
    "\n",
    "# Applicare RandomizedSearchCV sul training set\n",
    "random_search.fit(X_train_knn, y_train)\n",
    "\n",
    "# Migliori parametri trovati\n",
    "best_params_knn = random_search.best_params_\n",
    "print(f\"Migliori parametri trovati: {best_params}\")\n"
   ]
  },
  {
   "cell_type": "code",
   "execution_count": null,
   "id": "a3934ec8-7cd2-47b2-98cf-28d12c9a0202",
   "metadata": {},
   "outputs": [],
   "source": [
    "# Addestrare il modello con i migliori parametri\n",
    "fitted_knn = KNeighborsClassifier(**best_params_knn).fit(X_train_knn, y_train)\n",
    "\n",
    "# Predizione sul validation set\n",
    "y_pred_knn = fitted_knn.predict(X_val_knn)\n",
    "\n",
    "metrics_knn = metrics_score(y_val, y_pred_knn)\n",
    "results_dictionary[\"K-Nearest Neighbors\"] = metrics_knn\n",
    "print(\"Model fit done: Metrics saved in results_dictionary !\")"
   ]
  },
  {
   "cell_type": "code",
   "execution_count": 177,
   "id": "4f93d904-1091-497d-a7dc-d3df4521b920",
   "metadata": {},
   "outputs": [
    {
     "name": "stdout",
     "output_type": "stream",
     "text": [
      "    K-Nearest Neighbors\n",
      "+-----------+----------+\n",
      "|  Metric   |  Value   |\n",
      "+===========+==========+\n",
      "| Accuracy  | 0.996904 |\n",
      "+-----------+----------+\n",
      "| Precision | 0.996904 |\n",
      "+-----------+----------+\n",
      "|  Recall   | 0.996904 |\n",
      "+-----------+----------+\n",
      "| F1-Score  | 0.996904 |\n",
      "+-----------+----------+\n"
     ]
    },
    {
     "data": {
      "image/png": "[encoded data removed]",
      "text/plain": [
       "<Figure size 300x300 with 2 Axes>"
      ]
     },
     "metadata": {},
     "output_type": "display_data"
    }
   ],
   "source": [
    "#Migliori parametri trovati: {'weights': 'distance', 'n_neighbors': 4, 'metric': 'manhattan'}\n",
    "table_knn = [[\"Accuracy\", metrics_knn[\"Accuracy\"]],\n",
    "         [\"Precision\", metrics_knn[\"Precision\"]],\n",
    "         [\"Recall\", metrics_knn[\"Recall\"]],\n",
    "         [\"F1-Score\", metrics_knn[\"F1-Score\"]]]\n",
    "\n",
    "print(\"    K-Nearest Neighbors\")\n",
    "print(tabulate(table_knn, headers=[\"Metric\", \"Value\"], tablefmt=\"grid\", colalign=(\"center\", \"center\")))\n",
    "# Matrice di confusione\n",
    "plt.figure(figsize=(3, 3))\n",
    "sns.heatmap(confusion_matrix(y_val, y_pred_knn), annot=True, fmt=\"d\", cmap=\"Greens\", xticklabels=[\"Normal\", \"Attack\"], yticklabels=[\"Normal\", \"Attack\"])\n",
    "plt.xlabel(\"Predicted\")\n",
    "plt.ylabel(\"Actual\")\n",
    "plt.title(\"Confusion Matrix - K-Nearest Neighbors\")\n",
    "plt.show()"
   ]
  },
  {
   "cell_type": "markdown",
   "id": "d69f268a-bce5-474f-a8b0-0e6bd2718b81",
   "metadata": {},
   "source": [
    "# Logistic Regression "
   ]
  },
  {
   "cell_type": "code",
   "execution_count": 57,
   "id": "55320225-3a1f-416e-b62b-171b2272a07e",
   "metadata": {
    "scrolled": true
   },
   "outputs": [
    {
     "name": "stdout",
     "output_type": "stream",
     "text": [
      "Fitting 10 folds for each of 50 candidates, totalling 500 fits\n",
      "Miglior valore di C trovato: 44.98432668969444\n"
     ]
    }
   ],
   "source": [
    "X_train_logistic, X_val_logistic, X_test_logistic = preprocess_pipeline(\"Logistic_Regression\")\n",
    "\n",
    "# Definisco griglia di iperparametri \n",
    "param_grid = {'C': np.logspace(-3, 3, 50)}  # Valori di C su scala logaritmica\n",
    "\n",
    "# Creazione del modello Logistic Regression\n",
    "logistic_regression = LogisticRegression(random_state=0, max_iter=1000)\n",
    "\n",
    "# Cerco il miglior C con GridSearchCV\n",
    "grid_search = GridSearchCV(logistic_regression, param_grid, cv=10, scoring='f1',verbose=1)\n",
    "grid_search.fit(X_train_logistic, y_train)\n",
    "\n",
    "best_C = grid_search.best_params_['C']\n",
    "print(f\"Miglior valore di C trovato: {best_C}\")\n"
   ]
  },
  {
   "cell_type": "code",
   "execution_count": null,
   "id": "49257083-936c-4b49-9b92-4bde8c372763",
   "metadata": {},
   "outputs": [],
   "source": [
    "#C = 44.98432668969444\n",
    "# Addestramento del modello \n",
    "fitted_regressor = LogisticRegression(C=best_C, random_state=0, max_iter=1000).fit(X_train_logistic, y_train)\n",
    "y_pred_logistic  = fitted_regressor.predict(X_val_logistic)\n",
    "\n",
    "# Calcolo dele metriche\n",
    "metrics_logistic = metrics_score(y_val, y_pred_logistic)\n",
    "results_dictionary[\"Logistic Regression\"] = metrics_logistic\n",
    "print(\"Model fit done: Metrics saved in results_dictionary !\")"
   ]
  },
  {
   "cell_type": "code",
   "execution_count": 63,
   "id": "8a02cdf0-1b8d-4aa4-b760-bc5ee2863875",
   "metadata": {},
   "outputs": [
    {
     "name": "stdout",
     "output_type": "stream",
     "text": [
      "    Logistic Regression\n",
      "+-----------+----------+\n",
      "|  Metric   |  Value   |\n",
      "+===========+==========+\n",
      "| Accuracy  | 0.973606 |\n",
      "+-----------+----------+\n",
      "| Precision | 0.973686 |\n",
      "+-----------+----------+\n",
      "|  Recall   | 0.973606 |\n",
      "+-----------+----------+\n",
      "| F1-Score  | 0.973591 |\n",
      "+-----------+----------+\n"
     ]
    },
    {
     "data": {
      "image/png": "[encoded data removed]",
      "text/plain": [
       "<Figure size 300x300 with 2 Axes>"
      ]
     },
     "metadata": {},
     "output_type": "display_data"
    }
   ],
   "source": [
    "table_logistic = [[\"Accuracy\", metrics_logistic[\"Accuracy\"]],\n",
    "         [\"Precision\", metrics_logistic[\"Precision\"]],\n",
    "         [\"Recall\", metrics_logistic[\"Recall\"]],\n",
    "         [\"F1-Score\", metrics_logistic[\"F1-Score\"]]]\n",
    "\n",
    "print(\"    Logistic Regression\")\n",
    "print(tabulate(table_logistic, headers=[\"Metric\", \"Value\"], tablefmt=\"grid\", colalign=(\"center\", \"center\")))\n",
    "# Matrice di confusione\n",
    "plt.figure(figsize=(3, 3))\n",
    "sns.heatmap(confusion_matrix(y_val, y_pred_logistic), annot=True, fmt=\"d\", cmap=\"Purples\", xticklabels=[\"Normal\", \"Attack\"], yticklabels=[\"Normal\", \"Attack\"])\n",
    "plt.xlabel(\"Predicted\")\n",
    "plt.ylabel(\"Actual\")\n",
    "plt.title(\"Confusion Matrix - Logistic Regression\")\n",
    "plt.show()"
   ]
  },
  {
   "cell_type": "markdown",
   "id": "ef3aa4ed-8fab-4435-9fcb-d8e33282771c",
   "metadata": {},
   "source": [
    "# Random Forest"
   ]
  },
  {
   "cell_type": "code",
   "execution_count": 388,
   "id": "0fa61793-08be-4831-9f45-6575f30bb5c0",
   "metadata": {
    "scrolled": true
   },
   "outputs": [
    {
     "name": "stdout",
     "output_type": "stream",
     "text": [
      "n_iterations: 4\n",
      "n_required_iterations: 4\n",
      "n_possible_iterations: 4\n",
      "min_resources_: 2799\n",
      "max_resources_: 75583\n",
      "aggressive_elimination: False\n",
      "factor: 3\n",
      "----------\n",
      "iter: 0\n",
      "n_candidates: 72\n",
      "n_resources: 2799\n",
      "Fitting 3 folds for each of 72 candidates, totalling 216 fits\n",
      "----------\n",
      "iter: 1\n",
      "n_candidates: 24\n",
      "n_resources: 8397\n",
      "Fitting 3 folds for each of 24 candidates, totalling 72 fits\n",
      "----------\n",
      "iter: 2\n",
      "n_candidates: 8\n",
      "n_resources: 25191\n",
      "Fitting 3 folds for each of 8 candidates, totalling 24 fits\n",
      "----------\n",
      "iter: 3\n",
      "n_candidates: 3\n",
      "n_resources: 75573\n",
      "Fitting 3 folds for each of 3 candidates, totalling 9 fits\n",
      "Miglior set di iperparametri trovato: {'criterion': 'gini', 'max_depth': 20, 'min_samples_leaf': 1, 'min_samples_split': 2, 'n_estimators': 100}\n",
      "Accuracy: 0.9987\n",
      "Precision: 0.9987\n",
      "Recall: 0.9987\n",
      "F1-Score: 0.9987\n"
     ]
    }
   ],
   "source": [
    "X_train_rf, X_val_rf, X_test_rf = preprocess_pipeline(\"Random_Forest\")\n",
    "\n",
    "# Definizione della griglia di iperparametri\n",
    "param_grid = {\n",
    "    'n_estimators': [50, 100, 200],\n",
    "    'max_depth': [10, 20, None],\n",
    "    'min_samples_split': [2, 5],\n",
    "    'min_samples_leaf': [1, 2],\n",
    "    'criterion': ['gini', 'entropy']\n",
    "}\n",
    "\n",
    "# Creazione del modello di Random Forest\n",
    "rf_model = RandomForestClassifier(random_state=42)\n",
    "\n",
    "# Implementazione di HalvingGridSearchCV\n",
    "halving_search = HalvingGridSearchCV(\n",
    "    estimator=rf_model,\n",
    "    param_grid=param_grid,\n",
    "    factor=3,  # Numero di candidati ridotti a ogni iterazione\n",
    "    cv=3,\n",
    "    scoring='f1',\n",
    "    verbose=1,\n",
    "    random_state=42\n",
    ")\n",
    "\n",
    "# Esegui la ricerca\n",
    "halving_search.fit(X_train_rf, y_train)\n",
    "\n",
    "# Miglior set di iperparametri trovato\n",
    "best_params_rf = halving_search.best_params_\n",
    "print(\"Miglior set di iperparametri trovato:\", best_params_rf)\n"
   ]
  },
  {
   "cell_type": "code",
   "execution_count": null,
   "id": "e0fa36d6-37c1-49d6-bbfa-3be4f9c767a8",
   "metadata": {},
   "outputs": [],
   "source": [
    "#Miglior set di iperparametri trovato: {'criterion': 'gini', 'max_depth': 20, 'min_samples_leaf': 1, 'min_samples_split': 2, 'n_estimators': 100}\n",
    "# Addestramento del miglior modello trovato\n",
    "fitted_random_forest = RandomForestClassifier(**best_params_rf, random_state=42).fit(X_train_rf, y_train)\n",
    "y_pred_rf = fitted_random_forest.predict(X_val_rf)\n",
    "\n",
    "metrics_random_forest = metrics_score(y_val, y_pred_rf)\n",
    "results_dictionary[\"Random Forest\"] = metrics_random_forest\n",
    "print(\"Model fit done: Metrics saved in results_dictionary !\")"
   ]
  },
  {
   "cell_type": "code",
   "execution_count": 390,
   "id": "b695b59a-b76a-4bac-a9a2-f97f1984366a",
   "metadata": {},
   "outputs": [
    {
     "name": "stdout",
     "output_type": "stream",
     "text": [
      "      Random Forest\n",
      "+-----------+----------+\n",
      "|  Metric   |  Value   |\n",
      "+===========+==========+\n",
      "| Accuracy  | 0.99869  |\n",
      "+-----------+----------+\n",
      "| Precision | 0.998691 |\n",
      "+-----------+----------+\n",
      "|  Recall   | 0.99869  |\n",
      "+-----------+----------+\n",
      "| F1-Score  | 0.99869  |\n",
      "+-----------+----------+\n"
     ]
    },
    {
     "data": {
      "image/png": "[encoded data removed]",
      "text/plain": [
       "<Figure size 300x300 with 2 Axes>"
      ]
     },
     "metadata": {},
     "output_type": "display_data"
    }
   ],
   "source": [
    "metrics_rf = results_dictionary[\"Random Forest\"]\n",
    "\n",
    "table_rf = [[\"Accuracy\",  metrics_rf[\"Accuracy\"]],\n",
    "            [\"Precision\", metrics_rf[\"Precision\"]],\n",
    "            [\"Recall\",    metrics_rf[\"Recall\"]],\n",
    "            [\"F1-Score\",  metrics_rf[\"F1-Score\"]]]\n",
    "\n",
    "print(\"      Random Forest\")\n",
    "print(tabulate(table_rf, headers=[\"Metric\", \"Value\"], tablefmt=\"grid\", colalign=(\"center\", \"center\")))\n",
    "# Matrice di confusione\n",
    "plt.figure(figsize=(3, 3))\n",
    "sns.heatmap(confusion_matrix(y_val, y_pred_rf), annot=True, fmt=\"d\", cmap=\"Blues\", xticklabels=[\"Normal\", \"Attack\"], yticklabels=[\"Normal\", \"Attack\"])\n",
    "plt.xlabel(\"Predicted\")\n",
    "plt.ylabel(\"Actual\")\n",
    "plt.title(\"Confusion Matrix - Random Forest\")\n",
    "plt.show()"
   ]
  },
  {
   "cell_type": "markdown",
   "id": "fd91cd66-7416-4fce-8f54-b75c3601fced",
   "metadata": {},
   "source": [
    "# AdaBoost "
   ]
  },
  {
   "cell_type": "code",
   "execution_count": 193,
   "id": "07f21957-8ea6-412f-880f-45d8b23dc0ff",
   "metadata": {},
   "outputs": [
    {
     "name": "stdout",
     "output_type": "stream",
     "text": [
      "Fitting 5 folds for each of 27 candidates, totalling 135 fits\n"
     ]
    },
    {
     "name": "stderr",
     "output_type": "stream",
     "text": [
      "C:\\Users\\aless\\anaconda3\\Lib\\site-packages\\sklearn\\ensemble\\_weight_boosting.py:519: FutureWarning: The SAMME.R algorithm (the default) is deprecated and will be removed in 1.6. Use the SAMME algorithm to circumvent this warning.\n",
      "  warnings.warn(\n"
     ]
    },
    {
     "name": "stdout",
     "output_type": "stream",
     "text": [
      "Migliori iperparametri trovati: {'estimator__max_depth': 3, 'learning_rate': 1.0, 'n_estimators': 200}\n"
     ]
    }
   ],
   "source": [
    "X_train_ada, X_val_ada, X_test_ada = preprocess_pipeline(\"AdaBoost\")\n",
    "\n",
    "# Definizione della griglia di ricerca per i migliori iperparametri\n",
    "param_grid_ada = {\n",
    "    'n_estimators': [50, 100, 200],  # Numero di alberi nel boosting\n",
    "    'learning_rate': [0.01, 0.1, 1.0],  # Tasso di apprendimento\n",
    "    'estimator__max_depth': [1, 2, 3]  # Profondità dell'albero di decisione\n",
    "}\n",
    "\n",
    "# Creazione del modello base con un Decision Tree\n",
    "base_estimator = DecisionTreeClassifier()\n",
    "\n",
    "# Creazione del modello AdaBoost con il parametro corretto `estimator`\n",
    "adaboost = AdaBoostClassifier(estimator=base_estimator)\n",
    "\n",
    "# GridSearchCV per trovare i migliori iperparametri\n",
    "grid_search = GridSearchCV(\n",
    "    estimator=adaboost, \n",
    "    param_grid=param_grid_ada, \n",
    "    cv=5,                # 5-fold cross-validation\n",
    "    scoring='accuracy',  # Metrica di valutazione\n",
    "    n_jobs=-1,           # Usa tutti i core disponibili\n",
    "    verbose=1            # Mostra il progresso della ricerca\n",
    ")\n",
    "\n",
    "# Esegui Grid Search\n",
    "grid_search.fit(X_train_ada, y_train)\n",
    "\n",
    "# Ottenere i migliori iperparametri\n",
    "best_params_ada = grid_search.best_params_\n",
    "print(\"Migliori iperparametri trovati:\", best_params_ada)\n"
   ]
  },
  {
   "cell_type": "code",
   "execution_count": 197,
   "id": "660af0e4-2faa-424e-9c69-0f5977d456e7",
   "metadata": {},
   "outputs": [],
   "source": [
    "#Migliori iperparametri trovati: {'estimator__max_depth': 3, 'learning_rate': 1.0, 'n_estimators': 200}\n",
    "adaboost_model = AdaBoostClassifier(\n",
    "    estimator=DecisionTreeClassifier(max_depth=best_params_ada['estimator__max_depth']),  # Base learner con la migliore profondità\n",
    "    n_estimators=best_params_ada['n_estimators'],\n",
    "    learning_rate=best_params_ada['learning_rate'],\n",
    "    algorithm='SAMME'  # Variante standard adattiva\n",
    ")\n",
    "\n",
    "# Addestramento del modello ottimizzato\n",
    "adaboost_model.fit(X_train_ada, y_train)\n",
    "\n",
    "# Predizioni sul validation set\n",
    "y_pred_ada = adaboost_model.predict(X_val_ada)\n",
    "\n",
    "# Memorizzazione dei risultati\n",
    "metrics_ada = metrics_score(y_val, y_pred_ada)\n",
    "results_dictionary[\"AdaBoost\"] = metrics_ada\n",
    "print(\"Model fit done: Metrics saved in results_dictionary !\")"
   ]
  },
  {
   "cell_type": "code",
   "execution_count": 209,
   "id": "23c78bc2-49cd-4bf3-aa0c-85342ee513e0",
   "metadata": {},
   "outputs": [
    {
     "name": "stdout",
     "output_type": "stream",
     "text": [
      "      AdaBoost\n",
      "+-----------+----------+\n",
      "|  Metric   |  Value   |\n",
      "+===========+==========+\n",
      "| Accuracy  | 0.998849 |\n",
      "+-----------+----------+\n",
      "| Precision | 0.998849 |\n",
      "+-----------+----------+\n",
      "|  Recall   | 0.998849 |\n",
      "+-----------+----------+\n",
      "| F1-Score  | 0.998849 |\n",
      "+-----------+----------+\n"
     ]
    },
    {
     "data": {
      "image/png": "[encoded data removed]",
      "text/plain": [
       "<Figure size 300x300 with 2 Axes>"
      ]
     },
     "metadata": {},
     "output_type": "display_data"
    }
   ],
   "source": [
    "#Miglior set di iperparametri trovato: {'criterion': 'gini', 'max_depth': 20, 'min_samples_leaf': 1, 'min_samples_split': 2, 'n_estimators': 100}\n",
    "metrics_ada = results_dictionary[\"AdaBoost\"]\n",
    "\n",
    "table_ada = [[\"Accuracy\",  metrics_ada[\"Accuracy\"]],\n",
    "            [\"Precision\", metrics_ada[\"Precision\"]],\n",
    "            [\"Recall\",    metrics_ada[\"Recall\"]],\n",
    "            [\"F1-Score\",  metrics_ada[\"F1-Score\"]]]\n",
    "\n",
    "print(\"      AdaBoost\")\n",
    "print(tabulate(table_ada, headers=[\"Metric\", \"Value\"], tablefmt=\"grid\", colalign=(\"center\", \"center\")))\n",
    "# Matrice di confusione\n",
    "plt.figure(figsize=(3, 3))\n",
    "sns.heatmap(confusion_matrix(y_val, y_pred_ada), annot=True, fmt=\"d\", cmap=\"Oranges\", xticklabels=[\"Normal\", \"Attack\"], yticklabels=[\"Normal\", \"Attack\"])\n",
    "plt.xlabel(\"Predicted\")\n",
    "plt.ylabel(\"Actual\")\n",
    "plt.title(\"Confusion Matrix - AdaBoost\")\n",
    "plt.show()"
   ]
  },
  {
   "cell_type": "markdown",
   "id": "7bbcd78d-c745-448b-901a-a1be02df6989",
   "metadata": {},
   "source": [
    "# Conclusioni\n",
    "(da completare, per ottenere tutti i risultati nel dizionario va runnato tutto di nuovo)"
   ]
  },
  {
   "cell_type": "code",
   "execution_count": 220,
   "id": "bbab1ba2-f30e-4d94-96ec-377e1146f53d",
   "metadata": {},
   "outputs": [
    {
     "data": {
      "text/plain": [
       "<Figure size 800x800 with 0 Axes>"
      ]
     },
     "metadata": {},
     "output_type": "display_data"
    },
    {
     "data": {
      "image/png": "[encoded data removed]",
      "text/plain": [
       "<Figure size 800x800 with 1 Axes>"
      ]
     },
     "metadata": {},
     "output_type": "display_data"
    }
   ],
   "source": [
    "data = pd.DataFrame(results_dictionary).T \n",
    "\n",
    "best_per_metric = data.max()\n",
    "\n",
    "plt.figure(figsize=(8, 8))\n",
    "colors = sns.color_palette(\"magma\", len(data.columns))\n",
    "bars = data.plot(kind='bar', figsize=(8, 8), width=0.8, alpha=0.85, color=colors)\n",
    "\n",
    "# Notes on values\n",
    "for p in bars.patches:\n",
    "    bars.annotate(\n",
    "        f'{p.get_height():.2f}', \n",
    "        (p.get_x() + p.get_width() / 2, p.get_height() + 0.01),\n",
    "        ha='center', va='bottom', fontsize=10, color='black'\n",
    "    )\n",
    "\n",
    "plt.title(\"Model Performance\", fontsize=16)\n",
    "plt.ylabel(\"Metrics\", fontsize=14)\n",
    "plt.xlabel(\"Models\", fontsize=14)\n",
    "plt.xticks(rotation=0, fontsize=12)\n",
    "plt.legend(title=\"Metrics\", fontsize=12, loc='upper right')\n",
    "plt.grid(axis='y', linestyle='--', alpha=0.7)\n",
    "plt.tight_layout()\n",
    "plt.show()"
   ]
  },
  {
   "cell_type": "code",
   "execution_count": null,
   "id": "22c2cb8f-59f0-4470-8e39-15dd556b1a2c",
   "metadata": {},
   "outputs": [],
   "source": []
  }
 ],
 "metadata": {
  "kernelspec": {
   "display_name": "Python 3 (ipykernel)",
   "language": "python",
   "name": "python3"
  },
  "language_info": {
   "codemirror_mode": {
    "name": "ipython",
    "version": 3
   },
   "file_extension": ".py",
   "mimetype": "text/x-python",
   "name": "python",
   "nbconvert_exporter": "python",
   "pygments_lexer": "ipython3",
   "version": "3.12.4"
  }
 },
 "nbformat": 4,
 "nbformat_minor": 5
}
